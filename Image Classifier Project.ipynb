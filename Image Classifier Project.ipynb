{
 "cells": [
  {
   "cell_type": "markdown",
   "metadata": {},
   "source": [
    "# Developing an AI application\n",
    "\n",
    "Going forward, AI algorithms will be incorporated into more and more everyday applications. For example, you might want to include an image classifier in a smart phone app. To do this, you'd use a deep learning model trained on hundreds of thousands of images as part of the overall application architecture. A large part of software development in the future will be using these types of models as common parts of applications. \n",
    "\n",
    "In this project, you'll train an image classifier to recognize different species of flowers. You can imagine using something like this in a phone app that tells you the name of the flower your camera is looking at. In practice you'd train this classifier, then export it for use in your application. We'll be using [this dataset](http://www.robots.ox.ac.uk/~vgg/data/flowers/102/index.html) of 102 flower categories, you can see a few examples below. \n",
    "\n",
    "<img src='assets/Flowers.png' width=500px>\n",
    "\n",
    "The project is broken down into multiple steps:\n",
    "\n",
    "* Load and preprocess the image dataset\n",
    "* Train the image classifier on your dataset\n",
    "* Use the trained classifier to predict image content\n",
    "\n",
    "We'll lead you through each part which you'll implement in Python.\n",
    "\n",
    "When you've completed this project, you'll have an application that can be trained on any set of labeled images. Here your network will be learning about flowers and end up as a command line application. But, what you do with your new skills depends on your imagination and effort in building a dataset. For example, imagine an app where you take a picture of a car, it tells you what the make and model is, then looks up information about it. Go build your own dataset and make something new.\n",
    "\n",
    "First up is importing the packages you'll need. It's good practice to keep all the imports at the beginning of your code. As you work through this notebook and find you need to import a package, make sure to add the import up here."
   ]
  },
  {
   "cell_type": "code",
   "execution_count": 1,
   "metadata": {},
   "outputs": [],
   "source": [
    "import torch\n",
    "from torchvision import datasets, transforms, models\n",
    "import matplotlib.pyplot as plt\n",
    "import numpy as np\n",
    "import pandas as pd\n",
    "from IPython.display import display, clear_output\n",
    "from collections import OrderedDict"
   ]
  },
  {
   "cell_type": "markdown",
   "metadata": {},
   "source": [
    "## Load the data\n",
    "\n",
    "Here you'll use `torchvision` to load the data ([documentation](http://pytorch.org/docs/0.3.0/torchvision/index.html)). The data should be included alongside this notebook, otherwise you can [download it here](https://s3.amazonaws.com/content.udacity-data.com/nd089/flower_data.tar.gz). The dataset is split into three parts, training, validation, and testing. For the training, you'll want to apply transformations such as random scaling, cropping, and flipping. This will help the network generalize leading to better performance. You'll also need to make sure the input data is resized to 224x224 pixels as required by the pre-trained networks.\n",
    "\n",
    "The validation and testing sets are used to measure the model's performance on data it hasn't seen yet. For this you don't want any scaling or rotation transformations, but you'll need to resize then crop the images to the appropriate size.\n",
    "\n",
    "The pre-trained networks you'll use were trained on the ImageNet dataset where each color channel was normalized separately. For all three sets you'll need to normalize the means and standard deviations of the images to what the network expects. For the means, it's `[0.485, 0.456, 0.406]` and for the standard deviations `[0.229, 0.224, 0.225]`, calculated from the ImageNet images.  These values will shift each color channel to be centered at 0 and range from -1 to 1.\n",
    " "
   ]
  },
  {
   "cell_type": "code",
   "execution_count": 2,
   "metadata": {},
   "outputs": [],
   "source": [
    "data_dir = 'flowers'\n",
    "train_dir = data_dir + '/train'\n",
    "valid_dir = data_dir + '/valid'\n",
    "test_dir = data_dir + '/test'"
   ]
  },
  {
   "cell_type": "code",
   "execution_count": 3,
   "metadata": {},
   "outputs": [],
   "source": [
    "# TODO: Define your transforms for the training, validation, and testing sets\n",
    "train_transforms = transforms.Compose([transforms.RandomRotation(30),\n",
    "                                       transforms.RandomResizedCrop(224),\n",
    "                                       transforms.RandomHorizontalFlip(),\n",
    "                                       transforms.ToTensor(),\n",
    "                                       transforms.Normalize([0.485, 0.456, 0.406],\n",
    "                                                            [0.229, 0.224, 0.225])])\n",
    "\n",
    "test_transforms = transforms.Compose([transforms.Resize(255),\n",
    "                                      transforms.CenterCrop(224),\n",
    "                                      transforms.ToTensor(),\n",
    "                                      transforms.Normalize([0.485, 0.456, 0.406],\n",
    "                                                           [0.229, 0.224, 0.225])])\n",
    "\n",
    "valid_transforms = transforms.Compose([transforms.Resize(255),\n",
    "                                      transforms.CenterCrop(224),\n",
    "                                      transforms.ToTensor(),\n",
    "                                      transforms.Normalize([0.485, 0.456, 0.406],\n",
    "                                                           [0.229, 0.224, 0.225])])\n",
    "\n",
    "# TODO: Load the datasets with ImageFolder\n",
    "train_data = datasets.ImageFolder(train_dir, transform=train_transforms)\n",
    "test_data = datasets.ImageFolder(test_dir, transform=test_transforms)\n",
    "valid_data = datasets.ImageFolder(valid_dir, transform=valid_transforms)\n",
    "\n",
    "# TODO: Using the image datasets and the trainforms, define the dataloaders\n",
    "train_loader = torch.utils.data.DataLoader(train_data, batch_size=64, shuffle=True)\n",
    "test_loader = torch.utils.data.DataLoader(test_data, batch_size=64)\n",
    "valid_loader = torch.utils.data.DataLoader(valid_data, batch_size=64)"
   ]
  },
  {
   "cell_type": "markdown",
   "metadata": {},
   "source": [
    "### Label mapping\n",
    "\n",
    "You'll also need to load in a mapping from category label to category name. You can find this in the file `cat_to_name.json`. It's a JSON object which you can read in with the [`json` module](https://docs.python.org/2/library/json.html). This will give you a dictionary mapping the integer encoded categories to the actual names of the flowers."
   ]
  },
  {
   "cell_type": "code",
   "execution_count": 4,
   "metadata": {},
   "outputs": [],
   "source": [
    "import json\n",
    "\n",
    "with open('cat_to_name.json', 'r') as f:\n",
    "    cat_to_name = json.load(f)"
   ]
  },
  {
   "cell_type": "code",
   "execution_count": 5,
   "metadata": {},
   "outputs": [
    {
     "data": {
      "text/plain": [
       "[('21', 'fire lily'),\n",
       " ('3', 'canterbury bells'),\n",
       " ('45', 'bolero deep blue'),\n",
       " ('1', 'pink primrose')]"
      ]
     },
     "execution_count": 5,
     "metadata": {},
     "output_type": "execute_result"
    }
   ],
   "source": [
    "list(cat_to_name.items())[:4]"
   ]
  },
  {
   "cell_type": "code",
   "execution_count": 6,
   "metadata": {},
   "outputs": [
    {
     "data": {
      "text/plain": [
       "102"
      ]
     },
     "execution_count": 6,
     "metadata": {},
     "output_type": "execute_result"
    }
   ],
   "source": [
    "num_classes = len(cat_to_name)\n",
    "num_classes"
   ]
  },
  {
   "cell_type": "markdown",
   "metadata": {},
   "source": [
    "# Building and training the classifier\n",
    "\n",
    "Now that the data is ready, it's time to build and train the classifier. As usual, you should use one of the pretrained models from `torchvision.models` to get the image features. Build and train a new feed-forward classifier using those features.\n",
    "\n",
    "We're going to leave this part up to you. Refer to [the rubric](https://review.udacity.com/#!/rubrics/1663/view) for guidance on successfully completing this section. Things you'll need to do:\n",
    "\n",
    "* Load a [pre-trained network](http://pytorch.org/docs/master/torchvision/models.html) (If you need a starting point, the VGG networks work great and are straightforward to use)\n",
    "* Define a new, untrained feed-forward network as a classifier, using ReLU activations and dropout\n",
    "* Train the classifier layers using backpropagation using the pre-trained network to get the features\n",
    "* Track the loss and accuracy on the validation set to determine the best hyperparameters\n",
    "\n",
    "We've left a cell open for you below, but use as many as you need. Our advice is to break the problem up into smaller parts you can run separately. Check that each part is doing what you expect, then move on to the next. You'll likely find that as you work through each part, you'll need to go back and modify your previous code. This is totally normal!\n",
    "\n",
    "When training make sure you're updating only the weights of the feed-forward network. You should be able to get the validation accuracy above 70% if you build everything right. Make sure to try different hyperparameters (learning rate, units in the classifier, epochs, etc) to find the best model. Save those hyperparameters to use as default values in the next part of the project.\n",
    "\n",
    "One last important tip if you're using the workspace to run your code: To avoid having your workspace disconnect during the long-running tasks in this notebook, please read in the earlier page in this lesson called Intro to\n",
    "GPU Workspaces about Keeping Your Session Active. You'll want to include code from the workspace_utils.py module.\n",
    "\n",
    "**Note for Workspace users:** If your network is over 1 GB when saved as a checkpoint, there might be issues with saving backups in your workspace. Typically this happens with wide dense layers after the convolutional layers. If your saved checkpoint is larger than 1 GB (you can open a terminal and check with `ls -lh`), you should reduce the size of your hidden layers and train again."
   ]
  },
  {
   "cell_type": "code",
   "execution_count": 7,
   "metadata": {},
   "outputs": [],
   "source": [
    "# TODO: Build and train your network\n",
    "\n",
    "# use VGG with 16 layers as suggested in https://arxiv.org/pdf/1409.1556.pdf\n",
    "model = models.vgg16(pretrained=True)\n",
    "\n",
    "# switch off gradient computation for features\n",
    "for param in model.parameters():\n",
    "    param.requires_grad = False\n",
    "\n",
    "# create custom classifier for our problem\n",
    "classifier = torch.nn.Sequential(OrderedDict([\n",
    "                          ('fc1', torch.nn.Linear(in_features=25088, out_features=4096, bias=True)),\n",
    "                          ('relu1', torch.nn.ReLU(inplace=True)),\n",
    "                          ('dropout1', torch.nn.Dropout(p=0.5, inplace=False)),\n",
    "                          ('fc2', torch.nn.Linear(in_features=4096, out_features=4096, bias=True)),\n",
    "                          ('relu2', torch.nn.ReLU(inplace=True)),\n",
    "                          ('dropout2', torch.nn.Dropout(p=0.5, inplace=False)),\n",
    "                          ('fc3', torch.nn.Linear(in_features=4096, out_features=102, bias=True)),\n",
    "                          ('output', torch.nn.LogSoftmax(dim=1))\n",
    "                          ]))\n",
    "\n",
    "# replace the default classifier with our custom classifier\n",
    "model.classifier = classifier\n",
    "\n",
    "# use negative log likelihood loss function, because our output activation function is LogSoftmax\n",
    "criterion = torch.nn.NLLLoss()"
   ]
  },
  {
   "cell_type": "code",
   "execution_count": 8,
   "metadata": {},
   "outputs": [
    {
     "data": {
      "text/plain": [
       "True"
      ]
     },
     "execution_count": 8,
     "metadata": {},
     "output_type": "execute_result"
    }
   ],
   "source": [
    "torch.cuda.is_available()"
   ]
  },
  {
   "cell_type": "code",
   "execution_count": 9,
   "metadata": {},
   "outputs": [],
   "source": [
    "# TODO: Do validation on the valid set\n",
    "\n",
    "from train import train\n",
    "\n",
    "device = 'cuda'\n",
    "model.to(device)"
   ]
  },
  {
   "cell_type": "code",
   "execution_count": 20,
   "metadata": {},
   "outputs": [],
   "source": [
    "def train(model, device, train_loader, test_loader, criterion, optimizer, epochs=5, print_every=5):\n",
    "    steps = 0\n",
    "    running_loss = 0\n",
    "    average_train_loss_per_epoch = []\n",
    "    average_test_loss_per_epoch = []\n",
    "    for epoch in range(epochs):\n",
    "        train_losses = []\n",
    "        test_losses = []\n",
    "        for inputs, labels in train_loader:\n",
    "            steps += 1\n",
    "            # Move input and label tensors to the default device\n",
    "            inputs, labels = inputs.to(device), labels.to(device)\n",
    "            \n",
    "            logps = model.forward(inputs)\n",
    "            loss = criterion(logps, labels)\n",
    "            \n",
    "            optimizer.zero_grad()\n",
    "            loss.backward()\n",
    "            optimizer.step()\n",
    "\n",
    "            running_loss += loss.item()\n",
    "            \n",
    "            if steps % print_every == 0:\n",
    "                test_loss = 0\n",
    "                accuracy = 0\n",
    "                model.eval()\n",
    "                with torch.no_grad():\n",
    "                    for inputs, labels in test_loader:\n",
    "                        inputs, labels = inputs.to(device), labels.to(device)\n",
    "                        logps = model.forward(inputs)\n",
    "                        batch_loss = criterion(logps, labels)\n",
    "                        \n",
    "                        test_loss += batch_loss.item()\n",
    "                        \n",
    "                        # Calculate accuracy\n",
    "                        ps = torch.exp(logps)\n",
    "                        top_p, top_class = ps.topk(1, dim=1)\n",
    "                        equals = top_class == labels.view(*top_class.shape)\n",
    "                        accuracy += torch.mean(equals.type(torch.FloatTensor)).item()\n",
    "                \n",
    "                    print(f\"Epoch {epoch+1}/{epochs}, \",\n",
    "                        f\"Train loss: {running_loss/print_every:.3f}, \",\n",
    "                        f\"Test loss: {test_loss/len(test_loader):.3f}, \",\n",
    "                        f\"Test accuracy: {accuracy/len(test_loader):.3f}\",\n",
    "                        end=\"\\r\")\n",
    "                    train_losses.append(running_loss/print_every)\n",
    "                    test_losses.append(test_loss/len(test_loader))\n",
    "                running_loss = 0\n",
    "                model.train()\n",
    "        average_train_loss_per_epoch.append(np.mean(train_losses))\n",
    "        average_test_loss_per_epoch.append(np.mean(test_losses))\n",
    "\n",
    "    return average_train_loss_per_epoch, average_test_loss_per_epoch"
   ]
  },
  {
   "cell_type": "code",
   "execution_count": 24,
   "metadata": {},
   "outputs": [
    {
     "name": "stdout",
     "output_type": "stream",
     "text": [
      "Epoch 5/5,  Train loss: 4.387,  Test loss: 4.548,  Test accuracy: 0.0906\r"
     ]
    },
    {
     "data": {
      "image/png": "[encoded data removed]",
      "text/plain": [
       "<Figure size 640x480 with 1 Axes>"
      ]
     },
     "metadata": {},
     "output_type": "display_data"
    },
    {
     "name": "stdout",
     "output_type": "stream",
     "text": [
      "Epoch 5/5,  Train loss: 4.143,  Test loss: 4.459,  Test accuracy: 0.0775\r"
     ]
    },
    {
     "data": {
      "image/png": "[encoded data removed]",
      "text/plain": [
       "<Figure size 640x480 with 1 Axes>"
      ]
     },
     "metadata": {},
     "output_type": "display_data"
    },
    {
     "name": "stdout",
     "output_type": "stream",
     "text": [
      "Epoch 5/5,  Train loss: 4.193,  Test loss: 4.126,  Test accuracy: 0.0798\r"
     ]
    },
    {
     "data": {
      "image/png": "[encoded data removed]",
      "text/plain": [
       "<Figure size 640x480 with 1 Axes>"
      ]
     },
     "metadata": {},
     "output_type": "display_data"
    },
    {
     "name": "stdout",
     "output_type": "stream",
     "text": [
      "Epoch 5/5,  Train loss: 4.180,  Test loss: 4.122,  Test accuracy: 0.0811\r"
     ]
    },
    {
     "data": {
      "image/png": "[encoded data removed]",
      "text/plain": [
       "<Figure size 640x480 with 1 Axes>"
      ]
     },
     "metadata": {},
     "output_type": "display_data"
    },
    {
     "name": "stdout",
     "output_type": "stream",
     "text": [
      "Epoch 5/5,  Train loss: 4.160,  Test loss: 4.112,  Test accuracy: 0.079\r"
     ]
    },
    {
     "data": {
      "image/png": "[encoded data removed]",
      "text/plain": [
       "<Figure size 640x480 with 1 Axes>"
      ]
     },
     "metadata": {},
     "output_type": "display_data"
    }
   ],
   "source": [
    "# iterate learning rates to find optimum\n",
    "for lr in [0.01, 0.005, 0.002, 0.001, 0.0005]:\n",
    "\n",
    "    # Only train the classifier parameters, feature parameters are frozen\n",
    "    optimizer = torch.optim.Adam(model.classifier.parameters(), lr=lr)\n",
    "\n",
    "    # train model\n",
    "    average_train_loss_per_epoch, average_test_loss_per_epoch = train(model, device, valid_loader, valid_loader, criterion, optimizer, epochs=5)\n",
    "\n",
    "    # plot train loss vs validation loss per epoch to determine best number of epochs\n",
    "    plt.plot(average_train_loss_per_epoch)\n",
    "    plt.plot(average_test_loss_per_epoch)\n",
    "    plt.show()"
   ]
  },
  {
   "cell_type": "code",
   "execution_count": 18,
   "metadata": {},
   "outputs": [
    {
     "name": "stdout",
     "output_type": "stream",
     "text": [
      "Model: VGG16.. Criterion: NLLLoss.. Optimizer: Adam.. Learning rate: 0.0001.. Epoch 1/1.. Train loss: 4.610.. Valid loss: 4.442.. Valid accuracy: 0.078\n",
      "Model: VGG16.. Criterion: NLLLoss.. Optimizer: Adam.. Learning rate: 0.0001.. Epoch 1/1.. Train loss: 4.509.. Valid loss: 4.342.. Valid accuracy: 0.101\n",
      "Model: VGG16.. Criterion: NLLLoss.. Optimizer: Adam.. Learning rate: 0.0001.. Epoch 1/1.. Train loss: 4.478.. Valid loss: 4.199.. Valid accuracy: 0.129\n",
      "Model: VGG16.. Criterion: NLLLoss.. Optimizer: Adam.. Learning rate: 0.0001.. Epoch 1/1.. Train loss: 4.327.. Valid loss: 4.108.. Valid accuracy: 0.097\n",
      "Model: VGG16.. Criterion: NLLLoss.. Optimizer: Adam.. Learning rate: 0.0001.. Epoch 1/1.. Train loss: 4.266.. Valid loss: 3.972.. Valid accuracy: 0.157\n",
      "Model: VGG16.. Criterion: NLLLoss.. Optimizer: Adam.. Learning rate: 0.0001.. Epoch 1/1.. Train loss: 4.203.. Valid loss: 3.826.. Valid accuracy: 0.182\n",
      "Model: VGG16.. Criterion: NLLLoss.. Optimizer: Adam.. Learning rate: 0.0001.. Epoch 1/1.. Train loss: 4.035.. Valid loss: 3.622.. Valid accuracy: 0.245\n",
      "Model: VGG16.. Criterion: NLLLoss.. Optimizer: Adam.. Learning rate: 0.0001.. Epoch 1/1.. Train loss: 3.877.. Valid loss: 3.427.. Valid accuracy: 0.265\n",
      "Model: VGG16.. Criterion: NLLLoss.. Optimizer: Adam.. Learning rate: 0.0001.. Epoch 1/1.. Train loss: 3.718.. Valid loss: 3.200.. Valid accuracy: 0.346\n",
      "Model: VGG16.. Criterion: NLLLoss.. Optimizer: Adam.. Learning rate: 0.0001.. Epoch 1/1.. Train loss: 3.590.. Valid loss: 2.990.. Valid accuracy: 0.416\n",
      "Model: VGG16.. Criterion: NLLLoss.. Optimizer: Adam.. Learning rate: 0.0001.. Epoch 1/1.. Train loss: 3.508.. Valid loss: 2.789.. Valid accuracy: 0.393\n",
      "Model: VGG16.. Criterion: NLLLoss.. Optimizer: Adam.. Learning rate: 0.0001.. Epoch 1/1.. Train loss: 3.190.. Valid loss: 2.615.. Valid accuracy: 0.388\n",
      "Model: VGG16.. Criterion: NLLLoss.. Optimizer: Adam.. Learning rate: 0.0001.. Epoch 1/1.. Train loss: 3.206.. Valid loss: 2.473.. Valid accuracy: 0.440\n",
      "Model: VGG16.. Criterion: NLLLoss.. Optimizer: Adam.. Learning rate: 0.0001.. Epoch 1/1.. Train loss: 2.898.. Valid loss: 2.391.. Valid accuracy: 0.421\n",
      "Model: VGG16.. Criterion: NLLLoss.. Optimizer: Adam.. Learning rate: 0.0001.. Epoch 1/1.. Train loss: 2.824.. Valid loss: 2.140.. Valid accuracy: 0.544\n",
      "Model: VGG16.. Criterion: NLLLoss.. Optimizer: Adam.. Learning rate: 0.0001.. Epoch 1/1.. Train loss: 2.607.. Valid loss: 2.030.. Valid accuracy: 0.512\n",
      "Model: VGG16.. Criterion: NLLLoss.. Optimizer: Adam.. Learning rate: 0.0001.. Epoch 1/1.. Train loss: 2.657.. Valid loss: 1.893.. Valid accuracy: 0.530\n",
      "Model: VGG16.. Criterion: NLLLoss.. Optimizer: Adam.. Learning rate: 0.0001.. Epoch 1/1.. Train loss: 2.478.. Valid loss: 1.797.. Valid accuracy: 0.569\n",
      "Model: VGG16.. Criterion: NLLLoss.. Optimizer: Adam.. Learning rate: 0.0001.. Epoch 1/1.. Train loss: 2.702.. Valid loss: 1.648.. Valid accuracy: 0.632\n",
      "Model: VGG16.. Criterion: NLLLoss.. Optimizer: Adam.. Learning rate: 0.0001.. Epoch 1/1.. Train loss: 2.270.. Valid loss: 1.632.. Valid accuracy: 0.599\n",
      "Model: VGG16.. Criterion: NLLLoss.. Optimizer: Adam.. Learning rate: 0.0005.. Epoch 1/1.. Train loss: 2.875.. Valid loss: 3.774.. Valid accuracy: 0.236\n",
      "Model: VGG16.. Criterion: NLLLoss.. Optimizer: Adam.. Learning rate: 0.0005.. Epoch 1/1.. Train loss: 4.131.. Valid loss: 3.236.. Valid accuracy: 0.318\n",
      "Model: VGG16.. Criterion: NLLLoss.. Optimizer: Adam.. Learning rate: 0.0005.. Epoch 1/1.. Train loss: 3.557.. Valid loss: 2.767.. Valid accuracy: 0.399\n",
      "Model: VGG16.. Criterion: NLLLoss.. Optimizer: Adam.. Learning rate: 0.0005.. Epoch 1/1.. Train loss: 3.110.. Valid loss: 2.475.. Valid accuracy: 0.399\n",
      "Model: VGG16.. Criterion: NLLLoss.. Optimizer: Adam.. Learning rate: 0.0005.. Epoch 1/1.. Train loss: 2.806.. Valid loss: 2.167.. Valid accuracy: 0.460\n",
      "Model: VGG16.. Criterion: NLLLoss.. Optimizer: Adam.. Learning rate: 0.0005.. Epoch 1/1.. Train loss: 2.572.. Valid loss: 2.073.. Valid accuracy: 0.457\n",
      "Model: VGG16.. Criterion: NLLLoss.. Optimizer: Adam.. Learning rate: 0.0005.. Epoch 1/1.. Train loss: 2.465.. Valid loss: 1.747.. Valid accuracy: 0.517\n",
      "Model: VGG16.. Criterion: NLLLoss.. Optimizer: Adam.. Learning rate: 0.0005.. Epoch 1/1.. Train loss: 2.283.. Valid loss: 1.555.. Valid accuracy: 0.606\n",
      "Model: VGG16.. Criterion: NLLLoss.. Optimizer: Adam.. Learning rate: 0.0005.. Epoch 1/1.. Train loss: 2.239.. Valid loss: 1.476.. Valid accuracy: 0.605\n",
      "Model: VGG16.. Criterion: NLLLoss.. Optimizer: Adam.. Learning rate: 0.0005.. Epoch 1/1.. Train loss: 2.106.. Valid loss: 1.415.. Valid accuracy: 0.634\n",
      "Model: VGG16.. Criterion: NLLLoss.. Optimizer: Adam.. Learning rate: 0.0005.. Epoch 1/1.. Train loss: 1.938.. Valid loss: 1.358.. Valid accuracy: 0.631\n",
      "Model: VGG16.. Criterion: NLLLoss.. Optimizer: Adam.. Learning rate: 0.0005.. Epoch 1/1.. Train loss: 1.879.. Valid loss: 1.322.. Valid accuracy: 0.638\n",
      "Model: VGG16.. Criterion: NLLLoss.. Optimizer: Adam.. Learning rate: 0.0005.. Epoch 1/1.. Train loss: 1.661.. Valid loss: 1.221.. Valid accuracy: 0.662\n",
      "Model: VGG16.. Criterion: NLLLoss.. Optimizer: Adam.. Learning rate: 0.0005.. Epoch 1/1.. Train loss: 1.905.. Valid loss: 1.117.. Valid accuracy: 0.681\n",
      "Model: VGG16.. Criterion: NLLLoss.. Optimizer: Adam.. Learning rate: 0.0005.. Epoch 1/1.. Train loss: 1.766.. Valid loss: 1.106.. Valid accuracy: 0.691\n",
      "Model: VGG16.. Criterion: NLLLoss.. Optimizer: Adam.. Learning rate: 0.0005.. Epoch 1/1.. Train loss: 1.765.. Valid loss: 1.104.. Valid accuracy: 0.690\n",
      "Model: VGG16.. Criterion: NLLLoss.. Optimizer: Adam.. Learning rate: 0.0005.. Epoch 1/1.. Train loss: 1.862.. Valid loss: 1.064.. Valid accuracy: 0.707\n",
      "Model: VGG16.. Criterion: NLLLoss.. Optimizer: Adam.. Learning rate: 0.0005.. Epoch 1/1.. Train loss: 1.638.. Valid loss: 1.002.. Valid accuracy: 0.704\n",
      "Model: VGG16.. Criterion: NLLLoss.. Optimizer: Adam.. Learning rate: 0.0005.. Epoch 1/1.. Train loss: 1.746.. Valid loss: 0.988.. Valid accuracy: 0.734\n",
      "Model: VGG16.. Criterion: NLLLoss.. Optimizer: Adam.. Learning rate: 0.0005.. Epoch 1/1.. Train loss: 1.557.. Valid loss: 0.973.. Valid accuracy: 0.728\n",
      "Model: VGG16.. Criterion: NLLLoss.. Optimizer: Adam.. Learning rate: 0.0005.. Epoch 1/1.. Train loss: 1.542.. Valid loss: 0.924.. Valid accuracy: 0.738\n",
      "Model: VGG16.. Criterion: NLLLoss.. Optimizer: Adam.. Learning rate: 0.001.. Epoch 1/1.. Train loss: 2.492.. Valid loss: 1.958.. Valid accuracy: 0.542\n",
      "Model: VGG16.. Criterion: NLLLoss.. Optimizer: Adam.. Learning rate: 0.001.. Epoch 1/1.. Train loss: 2.744.. Valid loss: 1.724.. Valid accuracy: 0.576\n",
      "Model: VGG16.. Criterion: NLLLoss.. Optimizer: Adam.. Learning rate: 0.001.. Epoch 1/1.. Train loss: 2.373.. Valid loss: 1.350.. Valid accuracy: 0.654\n",
      "Model: VGG16.. Criterion: NLLLoss.. Optimizer: Adam.. Learning rate: 0.001.. Epoch 1/1.. Train loss: 1.979.. Valid loss: 1.355.. Valid accuracy: 0.619\n",
      "Model: VGG16.. Criterion: NLLLoss.. Optimizer: Adam.. Learning rate: 0.001.. Epoch 1/1.. Train loss: 1.735.. Valid loss: 1.284.. Valid accuracy: 0.678\n",
      "Model: VGG16.. Criterion: NLLLoss.. Optimizer: Adam.. Learning rate: 0.001.. Epoch 1/1.. Train loss: 2.043.. Valid loss: 1.183.. Valid accuracy: 0.664\n",
      "Model: VGG16.. Criterion: NLLLoss.. Optimizer: Adam.. Learning rate: 0.001.. Epoch 1/1.. Train loss: 2.137.. Valid loss: 1.188.. Valid accuracy: 0.681\n",
      "Model: VGG16.. Criterion: NLLLoss.. Optimizer: Adam.. Learning rate: 0.001.. Epoch 1/1.. Train loss: 1.853.. Valid loss: 1.193.. Valid accuracy: 0.669\n",
      "Model: VGG16.. Criterion: NLLLoss.. Optimizer: Adam.. Learning rate: 0.001.. Epoch 1/1.. Train loss: 1.901.. Valid loss: 1.172.. Valid accuracy: 0.695\n",
      "Model: VGG16.. Criterion: NLLLoss.. Optimizer: Adam.. Learning rate: 0.001.. Epoch 1/1.. Train loss: 1.993.. Valid loss: 1.050.. Valid accuracy: 0.712\n",
      "Model: VGG16.. Criterion: NLLLoss.. Optimizer: Adam.. Learning rate: 0.001.. Epoch 1/1.. Train loss: 1.742.. Valid loss: 0.935.. Valid accuracy: 0.744\n",
      "Model: VGG16.. Criterion: NLLLoss.. Optimizer: Adam.. Learning rate: 0.001.. Epoch 1/1.. Train loss: 1.696.. Valid loss: 1.084.. Valid accuracy: 0.703\n",
      "Model: VGG16.. Criterion: NLLLoss.. Optimizer: Adam.. Learning rate: 0.001.. Epoch 1/1.. Train loss: 1.966.. Valid loss: 1.096.. Valid accuracy: 0.699\n",
      "Model: VGG16.. Criterion: NLLLoss.. Optimizer: Adam.. Learning rate: 0.001.. Epoch 1/1.. Train loss: 1.975.. Valid loss: 1.042.. Valid accuracy: 0.714\n",
      "Model: VGG16.. Criterion: NLLLoss.. Optimizer: Adam.. Learning rate: 0.001.. Epoch 1/1.. Train loss: 1.968.. Valid loss: 0.933.. Valid accuracy: 0.751\n",
      "Model: VGG16.. Criterion: NLLLoss.. Optimizer: Adam.. Learning rate: 0.001.. Epoch 1/1.. Train loss: 1.683.. Valid loss: 0.976.. Valid accuracy: 0.729\n",
      "Model: VGG16.. Criterion: NLLLoss.. Optimizer: Adam.. Learning rate: 0.001.. Epoch 1/1.. Train loss: 1.789.. Valid loss: 0.896.. Valid accuracy: 0.750\n",
      "Model: VGG16.. Criterion: NLLLoss.. Optimizer: Adam.. Learning rate: 0.001.. Epoch 1/1.. Train loss: 1.946.. Valid loss: 0.880.. Valid accuracy: 0.742\n",
      "Model: VGG16.. Criterion: NLLLoss.. Optimizer: Adam.. Learning rate: 0.001.. Epoch 1/1.. Train loss: 2.052.. Valid loss: 1.050.. Valid accuracy: 0.704\n",
      "Model: VGG16.. Criterion: NLLLoss.. Optimizer: Adam.. Learning rate: 0.001.. Epoch 1/1.. Train loss: 1.908.. Valid loss: 0.944.. Valid accuracy: 0.725\n",
      "Model: VGG16.. Criterion: NLLLoss.. Optimizer: Adam.. Learning rate: 0.005.. Epoch 1/1.. Train loss: 1.554.. Valid loss: 9.681.. Valid accuracy: 0.227\n",
      "Model: VGG16.. Criterion: NLLLoss.. Optimizer: Adam.. Learning rate: 0.005.. Epoch 1/1.. Train loss: 22.001.. Valid loss: 6.131.. Valid accuracy: 0.241\n",
      "Model: VGG16.. Criterion: NLLLoss.. Optimizer: Adam.. Learning rate: 0.005.. Epoch 1/1.. Train loss: 6.728.. Valid loss: 3.480.. Valid accuracy: 0.230\n",
      "Model: VGG16.. Criterion: NLLLoss.. Optimizer: Adam.. Learning rate: 0.005.. Epoch 1/1.. Train loss: 4.621.. Valid loss: 2.990.. Valid accuracy: 0.325\n",
      "Model: VGG16.. Criterion: NLLLoss.. Optimizer: Adam.. Learning rate: 0.005.. Epoch 1/1.. Train loss: 4.753.. Valid loss: 2.994.. Valid accuracy: 0.338\n",
      "Model: VGG16.. Criterion: NLLLoss.. Optimizer: Adam.. Learning rate: 0.005.. Epoch 1/1.. Train loss: 4.540.. Valid loss: 2.934.. Valid accuracy: 0.312\n",
      "Model: VGG16.. Criterion: NLLLoss.. Optimizer: Adam.. Learning rate: 0.005.. Epoch 1/1.. Train loss: 4.630.. Valid loss: 2.999.. Valid accuracy: 0.310\n",
      "Model: VGG16.. Criterion: NLLLoss.. Optimizer: Adam.. Learning rate: 0.005.. Epoch 1/1.. Train loss: 4.652.. Valid loss: 2.919.. Valid accuracy: 0.342\n",
      "Model: VGG16.. Criterion: NLLLoss.. Optimizer: Adam.. Learning rate: 0.005.. Epoch 1/1.. Train loss: 4.645.. Valid loss: 3.037.. Valid accuracy: 0.307\n",
      "Model: VGG16.. Criterion: NLLLoss.. Optimizer: Adam.. Learning rate: 0.005.. Epoch 1/1.. Train loss: 4.674.. Valid loss: 3.105.. Valid accuracy: 0.295\n",
      "Model: VGG16.. Criterion: NLLLoss.. Optimizer: Adam.. Learning rate: 0.005.. Epoch 1/1.. Train loss: 5.168.. Valid loss: 3.384.. Valid accuracy: 0.241\n",
      "Model: VGG16.. Criterion: NLLLoss.. Optimizer: Adam.. Learning rate: 0.005.. Epoch 1/1.. Train loss: 5.033.. Valid loss: 3.425.. Valid accuracy: 0.268\n",
      "Model: VGG16.. Criterion: NLLLoss.. Optimizer: Adam.. Learning rate: 0.005.. Epoch 1/1.. Train loss: 5.373.. Valid loss: 3.547.. Valid accuracy: 0.207\n",
      "Model: VGG16.. Criterion: NLLLoss.. Optimizer: Adam.. Learning rate: 0.005.. Epoch 1/1.. Train loss: 5.115.. Valid loss: 3.619.. Valid accuracy: 0.243\n",
      "Model: VGG16.. Criterion: NLLLoss.. Optimizer: Adam.. Learning rate: 0.005.. Epoch 1/1.. Train loss: 5.252.. Valid loss: 3.750.. Valid accuracy: 0.208\n",
      "Model: VGG16.. Criterion: NLLLoss.. Optimizer: Adam.. Learning rate: 0.005.. Epoch 1/1.. Train loss: 5.219.. Valid loss: 3.953.. Valid accuracy: 0.180\n",
      "Model: VGG16.. Criterion: NLLLoss.. Optimizer: Adam.. Learning rate: 0.005.. Epoch 1/1.. Train loss: 5.037.. Valid loss: 4.016.. Valid accuracy: 0.161\n",
      "Model: VGG16.. Criterion: NLLLoss.. Optimizer: Adam.. Learning rate: 0.005.. Epoch 1/1.. Train loss: 4.906.. Valid loss: 4.080.. Valid accuracy: 0.127\n",
      "Model: VGG16.. Criterion: NLLLoss.. Optimizer: Adam.. Learning rate: 0.005.. Epoch 1/1.. Train loss: 5.006.. Valid loss: 4.247.. Valid accuracy: 0.115\n",
      "Model: VGG16.. Criterion: NLLLoss.. Optimizer: Adam.. Learning rate: 0.005.. Epoch 1/1.. Train loss: 4.994.. Valid loss: 4.083.. Valid accuracy: 0.137\n",
      "Model: VGG16.. Criterion: NLLLoss.. Optimizer: Adam.. Learning rate: 0.005.. Epoch 1/1.. Train loss: 5.063.. Valid loss: 4.074.. Valid accuracy: 0.124\n",
      "Model: VGG16.. Criterion: NLLLoss.. Optimizer: Adam.. Learning rate: 0.01.. Epoch 1/1.. Train loss: 5.146.. Valid loss: 4.096.. Valid accuracy: 0.124\n",
      "Model: VGG16.. Criterion: NLLLoss.. Optimizer: Adam.. Learning rate: 0.01.. Epoch 1/1.. Train loss: 6.494.. Valid loss: 4.406.. Valid accuracy: 0.053\n",
      "Model: VGG16.. Criterion: NLLLoss.. Optimizer: Adam.. Learning rate: 0.01.. Epoch 1/1.. Train loss: 6.418.. Valid loss: 4.526.. Valid accuracy: 0.043\n",
      "Model: VGG16.. Criterion: NLLLoss.. Optimizer: Adam.. Learning rate: 0.01.. Epoch 1/1.. Train loss: 5.809.. Valid loss: 4.541.. Valid accuracy: 0.031\n",
      "Model: VGG16.. Criterion: NLLLoss.. Optimizer: Adam.. Learning rate: 0.01.. Epoch 1/1.. Train loss: 5.471.. Valid loss: 4.570.. Valid accuracy: 0.031\n",
      "Model: VGG16.. Criterion: NLLLoss.. Optimizer: Adam.. Learning rate: 0.01.. Epoch 1/1.. Train loss: 5.456.. Valid loss: 4.601.. Valid accuracy: 0.014\n",
      "Model: VGG16.. Criterion: NLLLoss.. Optimizer: Adam.. Learning rate: 0.01.. Epoch 1/1.. Train loss: 5.636.. Valid loss: 4.594.. Valid accuracy: 0.018\n",
      "Model: VGG16.. Criterion: NLLLoss.. Optimizer: Adam.. Learning rate: 0.01.. Epoch 1/1.. Train loss: 5.379.. Valid loss: 4.585.. Valid accuracy: 0.035\n",
      "Model: VGG16.. Criterion: NLLLoss.. Optimizer: Adam.. Learning rate: 0.01.. Epoch 1/1.. Train loss: 5.084.. Valid loss: 4.517.. Valid accuracy: 0.053\n",
      "Model: VGG16.. Criterion: NLLLoss.. Optimizer: Adam.. Learning rate: 0.01.. Epoch 1/1.. Train loss: 5.042.. Valid loss: 4.547.. Valid accuracy: 0.043\n",
      "Model: VGG16.. Criterion: NLLLoss.. Optimizer: Adam.. Learning rate: 0.01.. Epoch 1/1.. Train loss: 5.098.. Valid loss: 4.555.. Valid accuracy: 0.042\n",
      "Model: VGG16.. Criterion: NLLLoss.. Optimizer: Adam.. Learning rate: 0.01.. Epoch 1/1.. Train loss: 4.931.. Valid loss: 4.558.. Valid accuracy: 0.038\n",
      "Model: VGG16.. Criterion: NLLLoss.. Optimizer: Adam.. Learning rate: 0.01.. Epoch 1/1.. Train loss: 4.802.. Valid loss: 4.557.. Valid accuracy: 0.037\n",
      "Model: VGG16.. Criterion: NLLLoss.. Optimizer: Adam.. Learning rate: 0.01.. Epoch 1/1.. Train loss: 4.826.. Valid loss: 4.552.. Valid accuracy: 0.037\n",
      "Model: VGG16.. Criterion: NLLLoss.. Optimizer: Adam.. Learning rate: 0.01.. Epoch 1/1.. Train loss: 4.670.. Valid loss: 4.547.. Valid accuracy: 0.037\n",
      "Model: VGG16.. Criterion: NLLLoss.. Optimizer: Adam.. Learning rate: 0.01.. Epoch 1/1.. Train loss: 4.817.. Valid loss: 4.543.. Valid accuracy: 0.037\n",
      "Model: VGG16.. Criterion: NLLLoss.. Optimizer: Adam.. Learning rate: 0.01.. Epoch 1/1.. Train loss: 4.794.. Valid loss: 4.541.. Valid accuracy: 0.037\n",
      "Model: VGG16.. Criterion: NLLLoss.. Optimizer: Adam.. Learning rate: 0.01.. Epoch 1/1.. Train loss: 4.833.. Valid loss: 4.538.. Valid accuracy: 0.037\n",
      "Model: VGG16.. Criterion: NLLLoss.. Optimizer: Adam.. Learning rate: 0.01.. Epoch 1/1.. Train loss: 4.671.. Valid loss: 4.537.. Valid accuracy: 0.037\n",
      "Model: VGG16.. Criterion: NLLLoss.. Optimizer: Adam.. Learning rate: 0.01.. Epoch 1/1.. Train loss: 4.624.. Valid loss: 4.536.. Valid accuracy: 0.037\n",
      "Model: VGG16.. Criterion: NLLLoss.. Optimizer: Adam.. Learning rate: 0.01.. Epoch 1/1.. Train loss: 4.836.. Valid loss: 4.534.. Valid accuracy: 0.036\n"
     ]
    }
   ],
   "source": [
    "# TODO: Do validation on the valid set\n",
    "\n",
    "device = 'cuda'\n",
    "model.to(device)\n",
    "epochs = 1\n",
    "steps = 0\n",
    "running_loss = 0\n",
    "print_every = 5\n",
    "\n",
    "# use negative log likelihood loss function, because our output activation function is LogSoftmax\n",
    "criterion = torch.nn.NLLLoss()\n",
    "\n",
    "# Only train the classifier parameters, feature parameters are frozen\n",
    "optimizer = torch.optim.Adam(model.classifier.parameters(), lr=learning_rate)\n",
    "\n",
    "def train(model, trainloader, testloader, criterion, optimizer, epochs=5, print_every=40)\n",
    "    for epoch in range(epochs):\n",
    "        for inputs, labels in train_loader:\n",
    "            steps += 1\n",
    "            # Move input and label tensors to the default device\n",
    "            inputs, labels = inputs.to(device), labels.to(device)\n",
    "            \n",
    "            logps = model.forward(inputs)\n",
    "            loss = criterion(logps, labels)\n",
    "            \n",
    "            optimizer.zero_grad()\n",
    "            loss.backward()\n",
    "            optimizer.step()\n",
    "\n",
    "            running_loss += loss.item()\n",
    "            \n",
    "            if steps % print_every == 0:\n",
    "                test_loss = 0\n",
    "                accuracy = 0\n",
    "                model.eval()\n",
    "                with torch.no_grad():\n",
    "                    for inputs, labels in valid_loader:\n",
    "                        inputs, labels = inputs.to(device), labels.to(device)\n",
    "                        logps = model.forward(inputs)\n",
    "                        batch_loss = criterion(logps, labels)\n",
    "                        \n",
    "                        test_loss += batch_loss.item()\n",
    "                        \n",
    "                        # Calculate accuracy\n",
    "                        ps = torch.exp(logps)\n",
    "                        top_p, top_class = ps.topk(1, dim=1)\n",
    "                        equals = top_class == labels.view(*top_class.shape)\n",
    "                        accuracy += torch.mean(equals.type(torch.FloatTensor)).item()\n",
    "                        \n",
    "                print(\"Model: VGG16.. Criterion: NLLLoss.. Optimizer: Adam.. \"\n",
    "                    f\"Learning rate: {learning_rate}.. \"\n",
    "                    f\"Epoch {epoch+1}/{epochs}.. \"\n",
    "                    f\"Train loss: {running_loss/print_every:.3f}.. \"\n",
    "                    f\"Test loss: {test_loss/len(valid_loader):.3f}.. \"\n",
    "                    f\"Test accuracy: {accuracy/len(valid_loader):.3f}\")\n",
    "                running_loss = 0\n",
    "                model.train()"
   ]
  },
  {
   "cell_type": "markdown",
   "metadata": {},
   "source": [
    "## Testing your network\n",
    "\n",
    "It's good practice to test your trained network on test data, images the network has never seen either in training or validation. This will give you a good estimate for the model's performance on completely new images. Run the test images through the network and measure the accuracy, the same way you did validation. You should be able to reach around 70% accuracy on the test set if the model has been trained well."
   ]
  },
  {
   "cell_type": "code",
   "execution_count": null,
   "metadata": {},
   "outputs": [],
   "source": [
    "def train(model, train_loader, test_loader, criterion, optimizer, epochs=5, print_every=40):\n",
    "    steps = 0\n",
    "    running_loss = 0\n",
    "    for epoch in range(epochs):\n",
    "        for inputs, labels in train_loader:\n",
    "            steps += 1\n",
    "            # Move input and label tensors to the default device\n",
    "            inputs, labels = inputs.to(device), labels.to(device)\n",
    "            \n",
    "            logps = model.forward(inputs)\n",
    "            loss = criterion(logps, labels)\n",
    "            \n",
    "            optimizer.zero_grad()\n",
    "            loss.backward()\n",
    "            optimizer.step()\n",
    "\n",
    "            running_loss += loss.item()\n",
    "            \n",
    "            if steps % print_every == 0:\n",
    "                test_loss = 0\n",
    "                accuracy = 0\n",
    "                model.eval()\n",
    "                with torch.no_grad():\n",
    "                    for inputs, labels in test_loader:\n",
    "                        inputs, labels = inputs.to(device), labels.to(device)\n",
    "                        logps = model.forward(inputs)\n",
    "                        batch_loss = criterion(logps, labels)\n",
    "                        \n",
    "                        test_loss += batch_loss.item()\n",
    "                        \n",
    "                        # Calculate accuracy\n",
    "                        ps = torch.exp(logps)\n",
    "                        top_p, top_class = ps.topk(1, dim=1)\n",
    "                        equals = top_class == labels.view(*top_class.shape)\n",
    "                        accuracy += torch.mean(equals.type(torch.FloatTensor)).item()\n",
    "                \n",
    "                    print(f\"Epoch {epoch+1}/{epochs}, \",\n",
    "                        f\"Train loss: {running_loss/print_every:.3f}, \",\n",
    "                        f\"Test loss: {test_loss/len(test_loader):.3f}, \",\n",
    "                        f\"Test accuracy: {accuracy/len(test_loader):.3f}, \",\n",
    "                        end=\"\\r\")\n",
    "                running_loss = 0\n",
    "                model.train()"
   ]
  },
  {
   "cell_type": "code",
   "execution_count": 69,
   "metadata": {},
   "outputs": [
    {
     "ename": "RuntimeError",
     "evalue": "CUDA out of memory. Tried to allocate 784.00 MiB (GPU 0; 7.79 GiB total capacity; 6.37 GiB already allocated; 361.81 MiB free; 6.39 GiB reserved in total by PyTorch)",
     "output_type": "error",
     "traceback": [
      "\u001b[0;31m---------------------------------------------------------------------------\u001b[0m",
      "\u001b[0;31mRuntimeError\u001b[0m                              Traceback (most recent call last)",
      "\u001b[0;32m/tmp/ipykernel_1895/2401521954.py\u001b[0m in \u001b[0;36m<module>\u001b[0;34m\u001b[0m\n\u001b[1;32m      8\u001b[0m \u001b[0;32mfor\u001b[0m \u001b[0mlearning_rate\u001b[0m \u001b[0;32min\u001b[0m \u001b[0;34m[\u001b[0m\u001b[0;36m0.0001\u001b[0m\u001b[0;34m,\u001b[0m \u001b[0;36m0.0005\u001b[0m\u001b[0;34m,\u001b[0m \u001b[0;36m0.001\u001b[0m\u001b[0;34m,\u001b[0m \u001b[0;36m0.005\u001b[0m\u001b[0;34m,\u001b[0m \u001b[0;36m0.01\u001b[0m\u001b[0;34m]\u001b[0m\u001b[0;34m:\u001b[0m\u001b[0;34m\u001b[0m\u001b[0;34m\u001b[0m\u001b[0m\n\u001b[1;32m      9\u001b[0m     \u001b[0moptimizer\u001b[0m \u001b[0;34m=\u001b[0m \u001b[0mtorch\u001b[0m\u001b[0;34m.\u001b[0m\u001b[0moptim\u001b[0m\u001b[0;34m.\u001b[0m\u001b[0mAdam\u001b[0m\u001b[0;34m(\u001b[0m\u001b[0mmodel\u001b[0m\u001b[0;34m.\u001b[0m\u001b[0mclassifier\u001b[0m\u001b[0;34m.\u001b[0m\u001b[0mparameters\u001b[0m\u001b[0;34m(\u001b[0m\u001b[0;34m)\u001b[0m\u001b[0;34m,\u001b[0m \u001b[0mlr\u001b[0m\u001b[0;34m=\u001b[0m\u001b[0mlearning_rate\u001b[0m\u001b[0;34m)\u001b[0m\u001b[0;34m\u001b[0m\u001b[0;34m\u001b[0m\u001b[0m\n\u001b[0;32m---> 10\u001b[0;31m     \u001b[0mtrain\u001b[0m\u001b[0;34m(\u001b[0m\u001b[0mmodel\u001b[0m\u001b[0;34m,\u001b[0m \u001b[0mtrain_loader\u001b[0m\u001b[0;34m,\u001b[0m \u001b[0mvalid_loader\u001b[0m\u001b[0;34m,\u001b[0m \u001b[0mcriterion\u001b[0m\u001b[0;34m,\u001b[0m \u001b[0moptimizer\u001b[0m\u001b[0;34m,\u001b[0m \u001b[0mepochs\u001b[0m\u001b[0;34m,\u001b[0m \u001b[0mprint_every\u001b[0m\u001b[0;34m)\u001b[0m\u001b[0;34m\u001b[0m\u001b[0;34m\u001b[0m\u001b[0m\n\u001b[0m",
      "\u001b[0;32m/tmp/ipykernel_1895/3693865520.py\u001b[0m in \u001b[0;36mtrain\u001b[0;34m(model, train_loader, test_loader, criterion, optimizer, epochs, print_every)\u001b[0m\n\u001b[1;32m      8\u001b[0m             \u001b[0minputs\u001b[0m\u001b[0;34m,\u001b[0m \u001b[0mlabels\u001b[0m \u001b[0;34m=\u001b[0m \u001b[0minputs\u001b[0m\u001b[0;34m.\u001b[0m\u001b[0mto\u001b[0m\u001b[0;34m(\u001b[0m\u001b[0mdevice\u001b[0m\u001b[0;34m)\u001b[0m\u001b[0;34m,\u001b[0m \u001b[0mlabels\u001b[0m\u001b[0;34m.\u001b[0m\u001b[0mto\u001b[0m\u001b[0;34m(\u001b[0m\u001b[0mdevice\u001b[0m\u001b[0;34m)\u001b[0m\u001b[0;34m\u001b[0m\u001b[0;34m\u001b[0m\u001b[0m\n\u001b[1;32m      9\u001b[0m \u001b[0;34m\u001b[0m\u001b[0m\n\u001b[0;32m---> 10\u001b[0;31m             \u001b[0mlogps\u001b[0m \u001b[0;34m=\u001b[0m \u001b[0mmodel\u001b[0m\u001b[0;34m.\u001b[0m\u001b[0mforward\u001b[0m\u001b[0;34m(\u001b[0m\u001b[0minputs\u001b[0m\u001b[0;34m)\u001b[0m\u001b[0;34m\u001b[0m\u001b[0;34m\u001b[0m\u001b[0m\n\u001b[0m\u001b[1;32m     11\u001b[0m             \u001b[0mloss\u001b[0m \u001b[0;34m=\u001b[0m \u001b[0mcriterion\u001b[0m\u001b[0;34m(\u001b[0m\u001b[0mlogps\u001b[0m\u001b[0;34m,\u001b[0m \u001b[0mlabels\u001b[0m\u001b[0;34m)\u001b[0m\u001b[0;34m\u001b[0m\u001b[0;34m\u001b[0m\u001b[0m\n\u001b[1;32m     12\u001b[0m \u001b[0;34m\u001b[0m\u001b[0m\n",
      "\u001b[0;32m~/miniconda3/envs/ailf/lib/python3.7/site-packages/torchvision/models/vgg.py\u001b[0m in \u001b[0;36mforward\u001b[0;34m(self, x)\u001b[0m\n\u001b[1;32m     47\u001b[0m \u001b[0;34m\u001b[0m\u001b[0m\n\u001b[1;32m     48\u001b[0m     \u001b[0;32mdef\u001b[0m \u001b[0mforward\u001b[0m\u001b[0;34m(\u001b[0m\u001b[0mself\u001b[0m\u001b[0;34m,\u001b[0m \u001b[0mx\u001b[0m\u001b[0;34m:\u001b[0m \u001b[0mtorch\u001b[0m\u001b[0;34m.\u001b[0m\u001b[0mTensor\u001b[0m\u001b[0;34m)\u001b[0m \u001b[0;34m->\u001b[0m \u001b[0mtorch\u001b[0m\u001b[0;34m.\u001b[0m\u001b[0mTensor\u001b[0m\u001b[0;34m:\u001b[0m\u001b[0;34m\u001b[0m\u001b[0;34m\u001b[0m\u001b[0m\n\u001b[0;32m---> 49\u001b[0;31m         \u001b[0mx\u001b[0m \u001b[0;34m=\u001b[0m \u001b[0mself\u001b[0m\u001b[0;34m.\u001b[0m\u001b[0mfeatures\u001b[0m\u001b[0;34m(\u001b[0m\u001b[0mx\u001b[0m\u001b[0;34m)\u001b[0m\u001b[0;34m\u001b[0m\u001b[0;34m\u001b[0m\u001b[0m\n\u001b[0m\u001b[1;32m     50\u001b[0m         \u001b[0mx\u001b[0m \u001b[0;34m=\u001b[0m \u001b[0mself\u001b[0m\u001b[0;34m.\u001b[0m\u001b[0mavgpool\u001b[0m\u001b[0;34m(\u001b[0m\u001b[0mx\u001b[0m\u001b[0;34m)\u001b[0m\u001b[0;34m\u001b[0m\u001b[0;34m\u001b[0m\u001b[0m\n\u001b[1;32m     51\u001b[0m         \u001b[0mx\u001b[0m \u001b[0;34m=\u001b[0m \u001b[0mtorch\u001b[0m\u001b[0;34m.\u001b[0m\u001b[0mflatten\u001b[0m\u001b[0;34m(\u001b[0m\u001b[0mx\u001b[0m\u001b[0;34m,\u001b[0m \u001b[0;36m1\u001b[0m\u001b[0;34m)\u001b[0m\u001b[0;34m\u001b[0m\u001b[0;34m\u001b[0m\u001b[0m\n",
      "\u001b[0;32m~/miniconda3/envs/ailf/lib/python3.7/site-packages/torch/nn/modules/module.py\u001b[0m in \u001b[0;36m_call_impl\u001b[0;34m(self, *input, **kwargs)\u001b[0m\n\u001b[1;32m    887\u001b[0m             \u001b[0mresult\u001b[0m \u001b[0;34m=\u001b[0m \u001b[0mself\u001b[0m\u001b[0;34m.\u001b[0m\u001b[0m_slow_forward\u001b[0m\u001b[0;34m(\u001b[0m\u001b[0;34m*\u001b[0m\u001b[0minput\u001b[0m\u001b[0;34m,\u001b[0m \u001b[0;34m**\u001b[0m\u001b[0mkwargs\u001b[0m\u001b[0;34m)\u001b[0m\u001b[0;34m\u001b[0m\u001b[0;34m\u001b[0m\u001b[0m\n\u001b[1;32m    888\u001b[0m         \u001b[0;32melse\u001b[0m\u001b[0;34m:\u001b[0m\u001b[0;34m\u001b[0m\u001b[0;34m\u001b[0m\u001b[0m\n\u001b[0;32m--> 889\u001b[0;31m             \u001b[0mresult\u001b[0m \u001b[0;34m=\u001b[0m \u001b[0mself\u001b[0m\u001b[0;34m.\u001b[0m\u001b[0mforward\u001b[0m\u001b[0;34m(\u001b[0m\u001b[0;34m*\u001b[0m\u001b[0minput\u001b[0m\u001b[0;34m,\u001b[0m \u001b[0;34m**\u001b[0m\u001b[0mkwargs\u001b[0m\u001b[0;34m)\u001b[0m\u001b[0;34m\u001b[0m\u001b[0;34m\u001b[0m\u001b[0m\n\u001b[0m\u001b[1;32m    890\u001b[0m         for hook in itertools.chain(\n\u001b[1;32m    891\u001b[0m                 \u001b[0m_global_forward_hooks\u001b[0m\u001b[0;34m.\u001b[0m\u001b[0mvalues\u001b[0m\u001b[0;34m(\u001b[0m\u001b[0;34m)\u001b[0m\u001b[0;34m,\u001b[0m\u001b[0;34m\u001b[0m\u001b[0;34m\u001b[0m\u001b[0m\n",
      "\u001b[0;32m~/miniconda3/envs/ailf/lib/python3.7/site-packages/torch/nn/modules/container.py\u001b[0m in \u001b[0;36mforward\u001b[0;34m(self, input)\u001b[0m\n\u001b[1;32m    117\u001b[0m     \u001b[0;32mdef\u001b[0m \u001b[0mforward\u001b[0m\u001b[0;34m(\u001b[0m\u001b[0mself\u001b[0m\u001b[0;34m,\u001b[0m \u001b[0minput\u001b[0m\u001b[0;34m)\u001b[0m\u001b[0;34m:\u001b[0m\u001b[0;34m\u001b[0m\u001b[0;34m\u001b[0m\u001b[0m\n\u001b[1;32m    118\u001b[0m         \u001b[0;32mfor\u001b[0m \u001b[0mmodule\u001b[0m \u001b[0;32min\u001b[0m \u001b[0mself\u001b[0m\u001b[0;34m:\u001b[0m\u001b[0;34m\u001b[0m\u001b[0;34m\u001b[0m\u001b[0m\n\u001b[0;32m--> 119\u001b[0;31m             \u001b[0minput\u001b[0m \u001b[0;34m=\u001b[0m \u001b[0mmodule\u001b[0m\u001b[0;34m(\u001b[0m\u001b[0minput\u001b[0m\u001b[0;34m)\u001b[0m\u001b[0;34m\u001b[0m\u001b[0;34m\u001b[0m\u001b[0m\n\u001b[0m\u001b[1;32m    120\u001b[0m         \u001b[0;32mreturn\u001b[0m \u001b[0minput\u001b[0m\u001b[0;34m\u001b[0m\u001b[0;34m\u001b[0m\u001b[0m\n\u001b[1;32m    121\u001b[0m \u001b[0;34m\u001b[0m\u001b[0m\n",
      "\u001b[0;32m~/miniconda3/envs/ailf/lib/python3.7/site-packages/torch/nn/modules/module.py\u001b[0m in \u001b[0;36m_call_impl\u001b[0;34m(self, *input, **kwargs)\u001b[0m\n\u001b[1;32m    887\u001b[0m             \u001b[0mresult\u001b[0m \u001b[0;34m=\u001b[0m \u001b[0mself\u001b[0m\u001b[0;34m.\u001b[0m\u001b[0m_slow_forward\u001b[0m\u001b[0;34m(\u001b[0m\u001b[0;34m*\u001b[0m\u001b[0minput\u001b[0m\u001b[0;34m,\u001b[0m \u001b[0;34m**\u001b[0m\u001b[0mkwargs\u001b[0m\u001b[0;34m)\u001b[0m\u001b[0;34m\u001b[0m\u001b[0;34m\u001b[0m\u001b[0m\n\u001b[1;32m    888\u001b[0m         \u001b[0;32melse\u001b[0m\u001b[0;34m:\u001b[0m\u001b[0;34m\u001b[0m\u001b[0;34m\u001b[0m\u001b[0m\n\u001b[0;32m--> 889\u001b[0;31m             \u001b[0mresult\u001b[0m \u001b[0;34m=\u001b[0m \u001b[0mself\u001b[0m\u001b[0;34m.\u001b[0m\u001b[0mforward\u001b[0m\u001b[0;34m(\u001b[0m\u001b[0;34m*\u001b[0m\u001b[0minput\u001b[0m\u001b[0;34m,\u001b[0m \u001b[0;34m**\u001b[0m\u001b[0mkwargs\u001b[0m\u001b[0;34m)\u001b[0m\u001b[0;34m\u001b[0m\u001b[0;34m\u001b[0m\u001b[0m\n\u001b[0m\u001b[1;32m    890\u001b[0m         for hook in itertools.chain(\n\u001b[1;32m    891\u001b[0m                 \u001b[0m_global_forward_hooks\u001b[0m\u001b[0;34m.\u001b[0m\u001b[0mvalues\u001b[0m\u001b[0;34m(\u001b[0m\u001b[0;34m)\u001b[0m\u001b[0;34m,\u001b[0m\u001b[0;34m\u001b[0m\u001b[0;34m\u001b[0m\u001b[0m\n",
      "\u001b[0;32m~/miniconda3/envs/ailf/lib/python3.7/site-packages/torch/nn/modules/conv.py\u001b[0m in \u001b[0;36mforward\u001b[0;34m(self, input)\u001b[0m\n\u001b[1;32m    397\u001b[0m \u001b[0;34m\u001b[0m\u001b[0m\n\u001b[1;32m    398\u001b[0m     \u001b[0;32mdef\u001b[0m \u001b[0mforward\u001b[0m\u001b[0;34m(\u001b[0m\u001b[0mself\u001b[0m\u001b[0;34m,\u001b[0m \u001b[0minput\u001b[0m\u001b[0;34m:\u001b[0m \u001b[0mTensor\u001b[0m\u001b[0;34m)\u001b[0m \u001b[0;34m->\u001b[0m \u001b[0mTensor\u001b[0m\u001b[0;34m:\u001b[0m\u001b[0;34m\u001b[0m\u001b[0;34m\u001b[0m\u001b[0m\n\u001b[0;32m--> 399\u001b[0;31m         \u001b[0;32mreturn\u001b[0m \u001b[0mself\u001b[0m\u001b[0;34m.\u001b[0m\u001b[0m_conv_forward\u001b[0m\u001b[0;34m(\u001b[0m\u001b[0minput\u001b[0m\u001b[0;34m,\u001b[0m \u001b[0mself\u001b[0m\u001b[0;34m.\u001b[0m\u001b[0mweight\u001b[0m\u001b[0;34m,\u001b[0m \u001b[0mself\u001b[0m\u001b[0;34m.\u001b[0m\u001b[0mbias\u001b[0m\u001b[0;34m)\u001b[0m\u001b[0;34m\u001b[0m\u001b[0;34m\u001b[0m\u001b[0m\n\u001b[0m\u001b[1;32m    400\u001b[0m \u001b[0;34m\u001b[0m\u001b[0m\n\u001b[1;32m    401\u001b[0m \u001b[0;32mclass\u001b[0m \u001b[0mConv3d\u001b[0m\u001b[0;34m(\u001b[0m\u001b[0m_ConvNd\u001b[0m\u001b[0;34m)\u001b[0m\u001b[0;34m:\u001b[0m\u001b[0;34m\u001b[0m\u001b[0;34m\u001b[0m\u001b[0m\n",
      "\u001b[0;32m~/miniconda3/envs/ailf/lib/python3.7/site-packages/torch/nn/modules/conv.py\u001b[0m in \u001b[0;36m_conv_forward\u001b[0;34m(self, input, weight, bias)\u001b[0m\n\u001b[1;32m    394\u001b[0m                             _pair(0), self.dilation, self.groups)\n\u001b[1;32m    395\u001b[0m         return F.conv2d(input, weight, bias, self.stride,\n\u001b[0;32m--> 396\u001b[0;31m                         self.padding, self.dilation, self.groups)\n\u001b[0m\u001b[1;32m    397\u001b[0m \u001b[0;34m\u001b[0m\u001b[0m\n\u001b[1;32m    398\u001b[0m     \u001b[0;32mdef\u001b[0m \u001b[0mforward\u001b[0m\u001b[0;34m(\u001b[0m\u001b[0mself\u001b[0m\u001b[0;34m,\u001b[0m \u001b[0minput\u001b[0m\u001b[0;34m:\u001b[0m \u001b[0mTensor\u001b[0m\u001b[0;34m)\u001b[0m \u001b[0;34m->\u001b[0m \u001b[0mTensor\u001b[0m\u001b[0;34m:\u001b[0m\u001b[0;34m\u001b[0m\u001b[0;34m\u001b[0m\u001b[0m\n",
      "\u001b[0;31mRuntimeError\u001b[0m: CUDA out of memory. Tried to allocate 784.00 MiB (GPU 0; 7.79 GiB total capacity; 6.37 GiB already allocated; 361.81 MiB free; 6.39 GiB reserved in total by PyTorch)"
     ]
    }
   ],
   "source": [
    "device = 'cuda'\n",
    "model.to(device)\n",
    "epochs = 1\n",
    "print_every = 40\n",
    "\n",
    "criterion = torch.nn.NLLLoss()\n",
    "\n",
    "for learning_rate in [0.0001, 0.0005, 0.001, 0.005, 0.01]:\n",
    "    optimizer = torch.optim.Adam(model.classifier.parameters(), lr=learning_rate)\n",
    "    train(model, train_loader, valid_loader, criterion, optimizer, epochs, print_every)"
   ]
  },
  {
   "attachments": {},
   "cell_type": "markdown",
   "metadata": {},
   "source": [
    "best learning rate for VGG16, NLLLoss and Adam is 0.001, because it leads to good validation accuracy at a comparitively high learning rate"
   ]
  },
  {
   "cell_type": "code",
   "execution_count": 14,
   "metadata": {},
   "outputs": [],
   "source": [
    "best_learning_rate = 0.001\n",
    "optimizer = torch.optim.Adam(model.classifier.parameters(), lr=best_learning_rate)"
   ]
  },
  {
   "cell_type": "code",
   "execution_count": 15,
   "metadata": {},
   "outputs": [
    {
     "name": "stdout",
     "output_type": "stream",
     "text": [
      "Model: VGG16.. Criterion: NLLLoss.. Optimizer: Adam.. Learning rate: 0.001.. Epoch 1/5.. Train loss: 6.315.. Valid loss: 5.126.. Valid accuracy: 0.030\n",
      "Model: VGG16.. Criterion: NLLLoss.. Optimizer: Adam.. Learning rate: 0.001.. Epoch 1/5.. Train loss: 4.792.. Valid loss: 4.324.. Valid accuracy: 0.106\n",
      "Model: VGG16.. Criterion: NLLLoss.. Optimizer: Adam.. Learning rate: 0.001.. Epoch 1/5.. Train loss: 4.402.. Valid loss: 4.008.. Valid accuracy: 0.171\n",
      "Model: VGG16.. Criterion: NLLLoss.. Optimizer: Adam.. Learning rate: 0.001.. Epoch 1/5.. Train loss: 4.171.. Valid loss: 3.715.. Valid accuracy: 0.205\n",
      "Model: VGG16.. Criterion: NLLLoss.. Optimizer: Adam.. Learning rate: 0.001.. Epoch 1/5.. Train loss: 3.978.. Valid loss: 3.377.. Valid accuracy: 0.284\n",
      "Model: VGG16.. Criterion: NLLLoss.. Optimizer: Adam.. Learning rate: 0.001.. Epoch 1/5.. Train loss: 3.782.. Valid loss: 3.143.. Valid accuracy: 0.305\n",
      "Model: VGG16.. Criterion: NLLLoss.. Optimizer: Adam.. Learning rate: 0.001.. Epoch 1/5.. Train loss: 3.469.. Valid loss: 2.673.. Valid accuracy: 0.332\n",
      "Model: VGG16.. Criterion: NLLLoss.. Optimizer: Adam.. Learning rate: 0.001.. Epoch 1/5.. Train loss: 3.110.. Valid loss: 2.577.. Valid accuracy: 0.335\n",
      "Model: VGG16.. Criterion: NLLLoss.. Optimizer: Adam.. Learning rate: 0.001.. Epoch 1/5.. Train loss: 3.016.. Valid loss: 2.293.. Valid accuracy: 0.419\n",
      "Model: VGG16.. Criterion: NLLLoss.. Optimizer: Adam.. Learning rate: 0.001.. Epoch 1/5.. Train loss: 3.033.. Valid loss: 2.205.. Valid accuracy: 0.445\n",
      "Model: VGG16.. Criterion: NLLLoss.. Optimizer: Adam.. Learning rate: 0.001.. Epoch 1/5.. Train loss: 2.856.. Valid loss: 1.965.. Valid accuracy: 0.488\n",
      "Model: VGG16.. Criterion: NLLLoss.. Optimizer: Adam.. Learning rate: 0.001.. Epoch 1/5.. Train loss: 2.693.. Valid loss: 2.015.. Valid accuracy: 0.497\n",
      "Model: VGG16.. Criterion: NLLLoss.. Optimizer: Adam.. Learning rate: 0.001.. Epoch 1/5.. Train loss: 2.764.. Valid loss: 1.815.. Valid accuracy: 0.521\n",
      "Model: VGG16.. Criterion: NLLLoss.. Optimizer: Adam.. Learning rate: 0.001.. Epoch 1/5.. Train loss: 2.581.. Valid loss: 1.718.. Valid accuracy: 0.552\n",
      "Model: VGG16.. Criterion: NLLLoss.. Optimizer: Adam.. Learning rate: 0.001.. Epoch 1/5.. Train loss: 2.383.. Valid loss: 1.699.. Valid accuracy: 0.571\n",
      "Model: VGG16.. Criterion: NLLLoss.. Optimizer: Adam.. Learning rate: 0.001.. Epoch 1/5.. Train loss: 2.457.. Valid loss: 1.597.. Valid accuracy: 0.570\n",
      "Model: VGG16.. Criterion: NLLLoss.. Optimizer: Adam.. Learning rate: 0.001.. Epoch 1/5.. Train loss: 2.562.. Valid loss: 1.627.. Valid accuracy: 0.573\n",
      "Model: VGG16.. Criterion: NLLLoss.. Optimizer: Adam.. Learning rate: 0.001.. Epoch 1/5.. Train loss: 2.505.. Valid loss: 1.621.. Valid accuracy: 0.586\n",
      "Model: VGG16.. Criterion: NLLLoss.. Optimizer: Adam.. Learning rate: 0.001.. Epoch 1/5.. Train loss: 2.364.. Valid loss: 1.352.. Valid accuracy: 0.646\n",
      "Model: VGG16.. Criterion: NLLLoss.. Optimizer: Adam.. Learning rate: 0.001.. Epoch 1/5.. Train loss: 2.309.. Valid loss: 1.544.. Valid accuracy: 0.585\n",
      "Model: VGG16.. Criterion: NLLLoss.. Optimizer: Adam.. Learning rate: 0.001.. Epoch 2/5.. Train loss: 2.070.. Valid loss: 1.603.. Valid accuracy: 0.587\n",
      "Model: VGG16.. Criterion: NLLLoss.. Optimizer: Adam.. Learning rate: 0.001.. Epoch 2/5.. Train loss: 2.267.. Valid loss: 1.289.. Valid accuracy: 0.644\n",
      "Model: VGG16.. Criterion: NLLLoss.. Optimizer: Adam.. Learning rate: 0.001.. Epoch 2/5.. Train loss: 2.548.. Valid loss: 1.248.. Valid accuracy: 0.671\n",
      "Model: VGG16.. Criterion: NLLLoss.. Optimizer: Adam.. Learning rate: 0.001.. Epoch 2/5.. Train loss: 2.266.. Valid loss: 1.393.. Valid accuracy: 0.650\n",
      "Model: VGG16.. Criterion: NLLLoss.. Optimizer: Adam.. Learning rate: 0.001.. Epoch 2/5.. Train loss: 2.177.. Valid loss: 1.449.. Valid accuracy: 0.631\n",
      "Model: VGG16.. Criterion: NLLLoss.. Optimizer: Adam.. Learning rate: 0.001.. Epoch 2/5.. Train loss: 2.305.. Valid loss: 1.330.. Valid accuracy: 0.632\n",
      "Model: VGG16.. Criterion: NLLLoss.. Optimizer: Adam.. Learning rate: 0.001.. Epoch 2/5.. Train loss: 2.176.. Valid loss: 1.225.. Valid accuracy: 0.671\n",
      "Model: VGG16.. Criterion: NLLLoss.. Optimizer: Adam.. Learning rate: 0.001.. Epoch 2/5.. Train loss: 2.278.. Valid loss: 1.144.. Valid accuracy: 0.705\n",
      "Model: VGG16.. Criterion: NLLLoss.. Optimizer: Adam.. Learning rate: 0.001.. Epoch 2/5.. Train loss: 2.216.. Valid loss: 1.149.. Valid accuracy: 0.700\n",
      "Model: VGG16.. Criterion: NLLLoss.. Optimizer: Adam.. Learning rate: 0.001.. Epoch 2/5.. Train loss: 2.094.. Valid loss: 1.275.. Valid accuracy: 0.671\n",
      "Model: VGG16.. Criterion: NLLLoss.. Optimizer: Adam.. Learning rate: 0.001.. Epoch 2/5.. Train loss: 2.234.. Valid loss: 1.241.. Valid accuracy: 0.696\n",
      "Model: VGG16.. Criterion: NLLLoss.. Optimizer: Adam.. Learning rate: 0.001.. Epoch 2/5.. Train loss: 2.080.. Valid loss: 1.108.. Valid accuracy: 0.706\n",
      "Model: VGG16.. Criterion: NLLLoss.. Optimizer: Adam.. Learning rate: 0.001.. Epoch 2/5.. Train loss: 2.212.. Valid loss: 1.086.. Valid accuracy: 0.698\n",
      "Model: VGG16.. Criterion: NLLLoss.. Optimizer: Adam.. Learning rate: 0.001.. Epoch 2/5.. Train loss: 2.050.. Valid loss: 1.090.. Valid accuracy: 0.710\n",
      "Model: VGG16.. Criterion: NLLLoss.. Optimizer: Adam.. Learning rate: 0.001.. Epoch 2/5.. Train loss: 2.244.. Valid loss: 1.069.. Valid accuracy: 0.719\n",
      "Model: VGG16.. Criterion: NLLLoss.. Optimizer: Adam.. Learning rate: 0.001.. Epoch 2/5.. Train loss: 2.174.. Valid loss: 1.228.. Valid accuracy: 0.675\n",
      "Model: VGG16.. Criterion: NLLLoss.. Optimizer: Adam.. Learning rate: 0.001.. Epoch 2/5.. Train loss: 2.357.. Valid loss: 1.142.. Valid accuracy: 0.697\n",
      "Model: VGG16.. Criterion: NLLLoss.. Optimizer: Adam.. Learning rate: 0.001.. Epoch 2/5.. Train loss: 2.126.. Valid loss: 1.015.. Valid accuracy: 0.728\n",
      "Model: VGG16.. Criterion: NLLLoss.. Optimizer: Adam.. Learning rate: 0.001.. Epoch 2/5.. Train loss: 2.264.. Valid loss: 0.970.. Valid accuracy: 0.738\n",
      "Model: VGG16.. Criterion: NLLLoss.. Optimizer: Adam.. Learning rate: 0.001.. Epoch 2/5.. Train loss: 1.988.. Valid loss: 1.039.. Valid accuracy: 0.731\n",
      "Model: VGG16.. Criterion: NLLLoss.. Optimizer: Adam.. Learning rate: 0.001.. Epoch 2/5.. Train loss: 2.079.. Valid loss: 1.056.. Valid accuracy: 0.740\n",
      "Model: VGG16.. Criterion: NLLLoss.. Optimizer: Adam.. Learning rate: 0.001.. Epoch 3/5.. Train loss: 2.133.. Valid loss: 1.094.. Valid accuracy: 0.702\n",
      "Model: VGG16.. Criterion: NLLLoss.. Optimizer: Adam.. Learning rate: 0.001.. Epoch 3/5.. Train loss: 2.389.. Valid loss: 0.975.. Valid accuracy: 0.736\n",
      "Model: VGG16.. Criterion: NLLLoss.. Optimizer: Adam.. Learning rate: 0.001.. Epoch 3/5.. Train loss: 1.836.. Valid loss: 1.004.. Valid accuracy: 0.742\n",
      "Model: VGG16.. Criterion: NLLLoss.. Optimizer: Adam.. Learning rate: 0.001.. Epoch 3/5.. Train loss: 2.200.. Valid loss: 0.955.. Valid accuracy: 0.745\n",
      "Model: VGG16.. Criterion: NLLLoss.. Optimizer: Adam.. Learning rate: 0.001.. Epoch 3/5.. Train loss: 1.807.. Valid loss: 0.966.. Valid accuracy: 0.753\n",
      "Model: VGG16.. Criterion: NLLLoss.. Optimizer: Adam.. Learning rate: 0.001.. Epoch 3/5.. Train loss: 2.134.. Valid loss: 0.903.. Valid accuracy: 0.774\n",
      "Model: VGG16.. Criterion: NLLLoss.. Optimizer: Adam.. Learning rate: 0.001.. Epoch 3/5.. Train loss: 2.067.. Valid loss: 0.902.. Valid accuracy: 0.759\n",
      "Model: VGG16.. Criterion: NLLLoss.. Optimizer: Adam.. Learning rate: 0.001.. Epoch 3/5.. Train loss: 2.095.. Valid loss: 0.952.. Valid accuracy: 0.738\n",
      "Model: VGG16.. Criterion: NLLLoss.. Optimizer: Adam.. Learning rate: 0.001.. Epoch 3/5.. Train loss: 2.106.. Valid loss: 1.063.. Valid accuracy: 0.711\n",
      "Model: VGG16.. Criterion: NLLLoss.. Optimizer: Adam.. Learning rate: 0.001.. Epoch 3/5.. Train loss: 1.971.. Valid loss: 1.009.. Valid accuracy: 0.732\n",
      "Model: VGG16.. Criterion: NLLLoss.. Optimizer: Adam.. Learning rate: 0.001.. Epoch 3/5.. Train loss: 2.057.. Valid loss: 1.002.. Valid accuracy: 0.729\n",
      "Model: VGG16.. Criterion: NLLLoss.. Optimizer: Adam.. Learning rate: 0.001.. Epoch 3/5.. Train loss: 2.095.. Valid loss: 0.940.. Valid accuracy: 0.753\n",
      "Model: VGG16.. Criterion: NLLLoss.. Optimizer: Adam.. Learning rate: 0.001.. Epoch 3/5.. Train loss: 2.226.. Valid loss: 1.055.. Valid accuracy: 0.714\n",
      "Model: VGG16.. Criterion: NLLLoss.. Optimizer: Adam.. Learning rate: 0.001.. Epoch 3/5.. Train loss: 2.221.. Valid loss: 1.063.. Valid accuracy: 0.726\n",
      "Model: VGG16.. Criterion: NLLLoss.. Optimizer: Adam.. Learning rate: 0.001.. Epoch 3/5.. Train loss: 2.028.. Valid loss: 1.007.. Valid accuracy: 0.737\n",
      "Model: VGG16.. Criterion: NLLLoss.. Optimizer: Adam.. Learning rate: 0.001.. Epoch 3/5.. Train loss: 2.220.. Valid loss: 0.939.. Valid accuracy: 0.768\n",
      "Model: VGG16.. Criterion: NLLLoss.. Optimizer: Adam.. Learning rate: 0.001.. Epoch 3/5.. Train loss: 1.968.. Valid loss: 0.947.. Valid accuracy: 0.748\n",
      "Model: VGG16.. Criterion: NLLLoss.. Optimizer: Adam.. Learning rate: 0.001.. Epoch 3/5.. Train loss: 2.059.. Valid loss: 0.955.. Valid accuracy: 0.741\n",
      "Model: VGG16.. Criterion: NLLLoss.. Optimizer: Adam.. Learning rate: 0.001.. Epoch 3/5.. Train loss: 2.100.. Valid loss: 0.957.. Valid accuracy: 0.748\n",
      "Model: VGG16.. Criterion: NLLLoss.. Optimizer: Adam.. Learning rate: 0.001.. Epoch 3/5.. Train loss: 1.860.. Valid loss: 0.965.. Valid accuracy: 0.738\n",
      "Model: VGG16.. Criterion: NLLLoss.. Optimizer: Adam.. Learning rate: 0.001.. Epoch 4/5.. Train loss: 2.174.. Valid loss: 0.945.. Valid accuracy: 0.762\n",
      "Model: VGG16.. Criterion: NLLLoss.. Optimizer: Adam.. Learning rate: 0.001.. Epoch 4/5.. Train loss: 2.066.. Valid loss: 0.922.. Valid accuracy: 0.763\n",
      "Model: VGG16.. Criterion: NLLLoss.. Optimizer: Adam.. Learning rate: 0.001.. Epoch 4/5.. Train loss: 1.992.. Valid loss: 0.915.. Valid accuracy: 0.774\n",
      "Model: VGG16.. Criterion: NLLLoss.. Optimizer: Adam.. Learning rate: 0.001.. Epoch 4/5.. Train loss: 2.133.. Valid loss: 0.883.. Valid accuracy: 0.782\n",
      "Model: VGG16.. Criterion: NLLLoss.. Optimizer: Adam.. Learning rate: 0.001.. Epoch 4/5.. Train loss: 1.869.. Valid loss: 0.924.. Valid accuracy: 0.755\n",
      "Model: VGG16.. Criterion: NLLLoss.. Optimizer: Adam.. Learning rate: 0.001.. Epoch 4/5.. Train loss: 1.940.. Valid loss: 0.892.. Valid accuracy: 0.758\n",
      "Model: VGG16.. Criterion: NLLLoss.. Optimizer: Adam.. Learning rate: 0.001.. Epoch 4/5.. Train loss: 2.087.. Valid loss: 0.875.. Valid accuracy: 0.759\n",
      "Model: VGG16.. Criterion: NLLLoss.. Optimizer: Adam.. Learning rate: 0.001.. Epoch 4/5.. Train loss: 2.255.. Valid loss: 0.993.. Valid accuracy: 0.728\n",
      "Model: VGG16.. Criterion: NLLLoss.. Optimizer: Adam.. Learning rate: 0.001.. Epoch 4/5.. Train loss: 2.062.. Valid loss: 0.942.. Valid accuracy: 0.745\n",
      "Model: VGG16.. Criterion: NLLLoss.. Optimizer: Adam.. Learning rate: 0.001.. Epoch 4/5.. Train loss: 1.892.. Valid loss: 0.888.. Valid accuracy: 0.766\n",
      "Model: VGG16.. Criterion: NLLLoss.. Optimizer: Adam.. Learning rate: 0.001.. Epoch 4/5.. Train loss: 2.276.. Valid loss: 0.917.. Valid accuracy: 0.761\n",
      "Model: VGG16.. Criterion: NLLLoss.. Optimizer: Adam.. Learning rate: 0.001.. Epoch 4/5.. Train loss: 2.204.. Valid loss: 0.854.. Valid accuracy: 0.789\n",
      "Model: VGG16.. Criterion: NLLLoss.. Optimizer: Adam.. Learning rate: 0.001.. Epoch 4/5.. Train loss: 2.063.. Valid loss: 0.865.. Valid accuracy: 0.793\n",
      "Model: VGG16.. Criterion: NLLLoss.. Optimizer: Adam.. Learning rate: 0.001.. Epoch 4/5.. Train loss: 2.155.. Valid loss: 0.993.. Valid accuracy: 0.749\n",
      "Model: VGG16.. Criterion: NLLLoss.. Optimizer: Adam.. Learning rate: 0.001.. Epoch 4/5.. Train loss: 2.031.. Valid loss: 1.176.. Valid accuracy: 0.721\n",
      "Model: VGG16.. Criterion: NLLLoss.. Optimizer: Adam.. Learning rate: 0.001.. Epoch 4/5.. Train loss: 2.111.. Valid loss: 1.156.. Valid accuracy: 0.743\n",
      "Model: VGG16.. Criterion: NLLLoss.. Optimizer: Adam.. Learning rate: 0.001.. Epoch 4/5.. Train loss: 1.979.. Valid loss: 0.995.. Valid accuracy: 0.749\n",
      "Model: VGG16.. Criterion: NLLLoss.. Optimizer: Adam.. Learning rate: 0.001.. Epoch 4/5.. Train loss: 1.956.. Valid loss: 0.974.. Valid accuracy: 0.753\n",
      "Model: VGG16.. Criterion: NLLLoss.. Optimizer: Adam.. Learning rate: 0.001.. Epoch 4/5.. Train loss: 2.055.. Valid loss: 0.924.. Valid accuracy: 0.773\n",
      "Model: VGG16.. Criterion: NLLLoss.. Optimizer: Adam.. Learning rate: 0.001.. Epoch 4/5.. Train loss: 1.947.. Valid loss: 0.860.. Valid accuracy: 0.768\n",
      "Model: VGG16.. Criterion: NLLLoss.. Optimizer: Adam.. Learning rate: 0.001.. Epoch 4/5.. Train loss: 2.238.. Valid loss: 0.816.. Valid accuracy: 0.788\n",
      "Model: VGG16.. Criterion: NLLLoss.. Optimizer: Adam.. Learning rate: 0.001.. Epoch 5/5.. Train loss: 2.137.. Valid loss: 0.874.. Valid accuracy: 0.782\n",
      "Model: VGG16.. Criterion: NLLLoss.. Optimizer: Adam.. Learning rate: 0.001.. Epoch 5/5.. Train loss: 1.914.. Valid loss: 0.887.. Valid accuracy: 0.778\n",
      "Model: VGG16.. Criterion: NLLLoss.. Optimizer: Adam.. Learning rate: 0.001.. Epoch 5/5.. Train loss: 2.228.. Valid loss: 0.875.. Valid accuracy: 0.782\n",
      "Model: VGG16.. Criterion: NLLLoss.. Optimizer: Adam.. Learning rate: 0.001.. Epoch 5/5.. Train loss: 1.880.. Valid loss: 0.882.. Valid accuracy: 0.770\n",
      "Model: VGG16.. Criterion: NLLLoss.. Optimizer: Adam.. Learning rate: 0.001.. Epoch 5/5.. Train loss: 1.937.. Valid loss: 0.840.. Valid accuracy: 0.784\n",
      "Model: VGG16.. Criterion: NLLLoss.. Optimizer: Adam.. Learning rate: 0.001.. Epoch 5/5.. Train loss: 2.168.. Valid loss: 0.868.. Valid accuracy: 0.761\n",
      "Model: VGG16.. Criterion: NLLLoss.. Optimizer: Adam.. Learning rate: 0.001.. Epoch 5/5.. Train loss: 1.920.. Valid loss: 0.884.. Valid accuracy: 0.764\n",
      "Model: VGG16.. Criterion: NLLLoss.. Optimizer: Adam.. Learning rate: 0.001.. Epoch 5/5.. Train loss: 1.831.. Valid loss: 0.866.. Valid accuracy: 0.784\n",
      "Model: VGG16.. Criterion: NLLLoss.. Optimizer: Adam.. Learning rate: 0.001.. Epoch 5/5.. Train loss: 1.790.. Valid loss: 0.860.. Valid accuracy: 0.785\n",
      "Model: VGG16.. Criterion: NLLLoss.. Optimizer: Adam.. Learning rate: 0.001.. Epoch 5/5.. Train loss: 1.818.. Valid loss: 0.796.. Valid accuracy: 0.805\n",
      "Model: VGG16.. Criterion: NLLLoss.. Optimizer: Adam.. Learning rate: 0.001.. Epoch 5/5.. Train loss: 1.815.. Valid loss: 0.765.. Valid accuracy: 0.809\n",
      "Model: VGG16.. Criterion: NLLLoss.. Optimizer: Adam.. Learning rate: 0.001.. Epoch 5/5.. Train loss: 1.609.. Valid loss: 0.777.. Valid accuracy: 0.800\n",
      "Model: VGG16.. Criterion: NLLLoss.. Optimizer: Adam.. Learning rate: 0.001.. Epoch 5/5.. Train loss: 1.938.. Valid loss: 0.788.. Valid accuracy: 0.798\n",
      "Model: VGG16.. Criterion: NLLLoss.. Optimizer: Adam.. Learning rate: 0.001.. Epoch 5/5.. Train loss: 1.799.. Valid loss: 0.754.. Valid accuracy: 0.799\n",
      "Model: VGG16.. Criterion: NLLLoss.. Optimizer: Adam.. Learning rate: 0.001.. Epoch 5/5.. Train loss: 1.826.. Valid loss: 0.748.. Valid accuracy: 0.800\n",
      "Model: VGG16.. Criterion: NLLLoss.. Optimizer: Adam.. Learning rate: 0.001.. Epoch 5/5.. Train loss: 1.903.. Valid loss: 0.739.. Valid accuracy: 0.807\n",
      "Model: VGG16.. Criterion: NLLLoss.. Optimizer: Adam.. Learning rate: 0.001.. Epoch 5/5.. Train loss: 2.129.. Valid loss: 0.714.. Valid accuracy: 0.815\n",
      "Model: VGG16.. Criterion: NLLLoss.. Optimizer: Adam.. Learning rate: 0.001.. Epoch 5/5.. Train loss: 1.872.. Valid loss: 0.721.. Valid accuracy: 0.810\n",
      "Model: VGG16.. Criterion: NLLLoss.. Optimizer: Adam.. Learning rate: 0.001.. Epoch 5/5.. Train loss: 1.968.. Valid loss: 0.785.. Valid accuracy: 0.797\n",
      "Model: VGG16.. Criterion: NLLLoss.. Optimizer: Adam.. Learning rate: 0.001.. Epoch 5/5.. Train loss: 2.114.. Valid loss: 0.789.. Valid accuracy: 0.802\n",
      "Model: VGG16.. Criterion: NLLLoss.. Optimizer: Adam.. Learning rate: 0.001.. Epoch 5/5.. Train loss: 1.676.. Valid loss: 0.773.. Valid accuracy: 0.806\n"
     ]
    }
   ],
   "source": [
    "device = 'cuda'\n",
    "model.to(device)\n",
    "epochs = 5\n",
    "steps = 0\n",
    "running_loss = 0\n",
    "print_every = 5\n",
    "for epoch in range(epochs):\n",
    "    for inputs, labels in train_loader:\n",
    "        steps += 1\n",
    "        # Move input and label tensors to the default device\n",
    "        inputs, labels = inputs.to(device), labels.to(device)\n",
    "        \n",
    "        logps = model.forward(inputs)\n",
    "        loss = criterion(logps, labels)\n",
    "        \n",
    "        optimizer.zero_grad()\n",
    "        loss.backward()\n",
    "        optimizer.step()\n",
    "\n",
    "        running_loss += loss.item()\n",
    "        \n",
    "        if steps % print_every == 0:\n",
    "            valid_loss = 0\n",
    "            accuracy = 0\n",
    "            model.eval()\n",
    "            with torch.no_grad():\n",
    "                for inputs, labels in valid_loader:\n",
    "                    inputs, labels = inputs.to(device), labels.to(device)\n",
    "                    logps = model.forward(inputs)\n",
    "                    batch_loss = criterion(logps, labels)\n",
    "                    \n",
    "                    valid_loss += batch_loss.item()\n",
    "                    \n",
    "                    # Calculate accuracy\n",
    "                    ps = torch.exp(logps)\n",
    "                    top_p, top_class = ps.topk(1, dim=1)\n",
    "                    equals = top_class == labels.view(*top_class.shape)\n",
    "                    accuracy += torch.mean(equals.type(torch.FloatTensor)).item()\n",
    "                    \n",
    "            print(\"Model: VGG16.. Criterion: NLLLoss.. Optimizer: Adam.. \"\n",
    "                f\"Learning rate: {best_learning_rate}.. \"\n",
    "                f\"Epoch {epoch+1}/{epochs}.. \"\n",
    "                f\"Train loss: {running_loss/print_every:.3f}.. \"\n",
    "                f\"Valid loss: {valid_loss/len(valid_loader):.3f}.. \"\n",
    "                f\"Valid accuracy: {accuracy/len(valid_loader):.3f}\")\n",
    "            running_loss = 0\n",
    "            model.train()"
   ]
  },
  {
   "cell_type": "markdown",
   "metadata": {},
   "source": [
    "## Save the checkpoint\n",
    "\n",
    "Now that your network is trained, save the model so you can load it later for making predictions. You probably want to save other things such as the mapping of classes to indices which you get from one of the image datasets: `image_datasets['train'].class_to_idx`. You can attach this to the model as an attribute which makes inference easier later on.\n",
    "\n",
    "```model.class_to_idx = image_datasets['train'].class_to_idx```\n",
    "\n",
    "Remember that you'll want to completely rebuild the model later so you can use it for inference. Make sure to include any information you need in the checkpoint. If you want to load the model and keep training, you'll want to save the number of epochs as well as the optimizer state, `optimizer.state_dict`. You'll likely want to use this trained model in the next part of the project, so best to save it now."
   ]
  },
  {
   "cell_type": "code",
   "execution_count": 16,
   "metadata": {},
   "outputs": [
    {
     "name": "stdout",
     "output_type": "stream",
     "text": [
      "Our model: \n",
      "\n",
      " VGG(\n",
      "  (features): Sequential(\n",
      "    (0): Conv2d(3, 64, kernel_size=(3, 3), stride=(1, 1), padding=(1, 1))\n",
      "    (1): ReLU(inplace=True)\n",
      "    (2): Conv2d(64, 64, kernel_size=(3, 3), stride=(1, 1), padding=(1, 1))\n",
      "    (3): ReLU(inplace=True)\n",
      "    (4): MaxPool2d(kernel_size=2, stride=2, padding=0, dilation=1, ceil_mode=False)\n",
      "    (5): Conv2d(64, 128, kernel_size=(3, 3), stride=(1, 1), padding=(1, 1))\n",
      "    (6): ReLU(inplace=True)\n",
      "    (7): Conv2d(128, 128, kernel_size=(3, 3), stride=(1, 1), padding=(1, 1))\n",
      "    (8): ReLU(inplace=True)\n",
      "    (9): MaxPool2d(kernel_size=2, stride=2, padding=0, dilation=1, ceil_mode=False)\n",
      "    (10): Conv2d(128, 256, kernel_size=(3, 3), stride=(1, 1), padding=(1, 1))\n",
      "    (11): ReLU(inplace=True)\n",
      "    (12): Conv2d(256, 256, kernel_size=(3, 3), stride=(1, 1), padding=(1, 1))\n",
      "    (13): ReLU(inplace=True)\n",
      "    (14): Conv2d(256, 256, kernel_size=(3, 3), stride=(1, 1), padding=(1, 1))\n",
      "    (15): ReLU(inplace=True)\n",
      "    (16): MaxPool2d(kernel_size=2, stride=2, padding=0, dilation=1, ceil_mode=False)\n",
      "    (17): Conv2d(256, 512, kernel_size=(3, 3), stride=(1, 1), padding=(1, 1))\n",
      "    (18): ReLU(inplace=True)\n",
      "    (19): Conv2d(512, 512, kernel_size=(3, 3), stride=(1, 1), padding=(1, 1))\n",
      "    (20): ReLU(inplace=True)\n",
      "    (21): Conv2d(512, 512, kernel_size=(3, 3), stride=(1, 1), padding=(1, 1))\n",
      "    (22): ReLU(inplace=True)\n",
      "    (23): MaxPool2d(kernel_size=2, stride=2, padding=0, dilation=1, ceil_mode=False)\n",
      "    (24): Conv2d(512, 512, kernel_size=(3, 3), stride=(1, 1), padding=(1, 1))\n",
      "    (25): ReLU(inplace=True)\n",
      "    (26): Conv2d(512, 512, kernel_size=(3, 3), stride=(1, 1), padding=(1, 1))\n",
      "    (27): ReLU(inplace=True)\n",
      "    (28): Conv2d(512, 512, kernel_size=(3, 3), stride=(1, 1), padding=(1, 1))\n",
      "    (29): ReLU(inplace=True)\n",
      "    (30): MaxPool2d(kernel_size=2, stride=2, padding=0, dilation=1, ceil_mode=False)\n",
      "  )\n",
      "  (avgpool): AdaptiveAvgPool2d(output_size=(7, 7))\n",
      "  (classifier): Sequential(\n",
      "    (fc1): Linear(in_features=25088, out_features=4096, bias=True)\n",
      "    (relu1): ReLU(inplace=True)\n",
      "    (dropout1): Dropout(p=0.5, inplace=False)\n",
      "    (fc2): Linear(in_features=4096, out_features=4096, bias=True)\n",
      "    (relu2): ReLU(inplace=True)\n",
      "    (dropout2): Dropout(p=0.5, inplace=False)\n",
      "    (fc3): Linear(in_features=4096, out_features=102, bias=True)\n",
      "    (output): LogSoftmax(dim=1)\n",
      "  )\n",
      ") \n",
      "\n",
      "The state dict keys: \n",
      "\n",
      " odict_keys(['features.0.weight', 'features.0.bias', 'features.2.weight', 'features.2.bias', 'features.5.weight', 'features.5.bias', 'features.7.weight', 'features.7.bias', 'features.10.weight', 'features.10.bias', 'features.12.weight', 'features.12.bias', 'features.14.weight', 'features.14.bias', 'features.17.weight', 'features.17.bias', 'features.19.weight', 'features.19.bias', 'features.21.weight', 'features.21.bias', 'features.24.weight', 'features.24.bias', 'features.26.weight', 'features.26.bias', 'features.28.weight', 'features.28.bias', 'classifier.fc1.weight', 'classifier.fc1.bias', 'classifier.fc2.weight', 'classifier.fc2.bias', 'classifier.fc3.weight', 'classifier.fc3.bias'])\n"
     ]
    }
   ],
   "source": [
    "print(\"Our model: \\n\\n\", model, '\\n')\n",
    "print(\"The state dict keys: \\n\\n\", model.state_dict().keys())"
   ]
  },
  {
   "cell_type": "code",
   "execution_count": 25,
   "metadata": {},
   "outputs": [],
   "source": [
    "# TODO: Save the checkpoint \n",
    "EPOCH = 5\n",
    "PATH = \"checkpoint.pth\"\n",
    "\n",
    "torch.save({\n",
    "            'epoch': EPOCH,\n",
    "            'model_state_dict': model.state_dict(),\n",
    "            'optimizer_state_dict': optimizer.state_dict(),\n",
    "            }, PATH)"
   ]
  },
  {
   "cell_type": "markdown",
   "metadata": {},
   "source": [
    "## Loading the checkpoint\n",
    "\n",
    "At this point it's good to write a function that can load a checkpoint and rebuild the model. That way you can come back to this project and keep working on it without having to retrain the network."
   ]
  },
  {
   "cell_type": "code",
   "execution_count": 18,
   "metadata": {},
   "outputs": [],
   "source": [
    "# TODO: Write a function that loads a checkpoint and rebuilds the model\n",
    "def load_model(model, optimizer, PATH):\n",
    "    checkpoint = torch.load(PATH, map_location=torch.device('cpu'))\n",
    "    model.load_state_dict(checkpoint['model_state_dict'])\n",
    "    optimizer.load_state_dict(checkpoint['optimizer_state_dict'])\n",
    "    epoch = checkpoint['epoch']\n",
    "    return model, epoch"
   ]
  },
  {
   "cell_type": "code",
   "execution_count": 19,
   "metadata": {},
   "outputs": [
    {
     "name": "stdout",
     "output_type": "stream",
     "text": [
      "5\n",
      "VGG(\n",
      "  (features): Sequential(\n",
      "    (0): Conv2d(3, 64, kernel_size=(3, 3), stride=(1, 1), padding=(1, 1))\n",
      "    (1): ReLU(inplace=True)\n",
      "    (2): Conv2d(64, 64, kernel_size=(3, 3), stride=(1, 1), padding=(1, 1))\n",
      "    (3): ReLU(inplace=True)\n",
      "    (4): MaxPool2d(kernel_size=2, stride=2, padding=0, dilation=1, ceil_mode=False)\n",
      "    (5): Conv2d(64, 128, kernel_size=(3, 3), stride=(1, 1), padding=(1, 1))\n",
      "    (6): ReLU(inplace=True)\n",
      "    (7): Conv2d(128, 128, kernel_size=(3, 3), stride=(1, 1), padding=(1, 1))\n",
      "    (8): ReLU(inplace=True)\n",
      "    (9): MaxPool2d(kernel_size=2, stride=2, padding=0, dilation=1, ceil_mode=False)\n",
      "    (10): Conv2d(128, 256, kernel_size=(3, 3), stride=(1, 1), padding=(1, 1))\n",
      "    (11): ReLU(inplace=True)\n",
      "    (12): Conv2d(256, 256, kernel_size=(3, 3), stride=(1, 1), padding=(1, 1))\n",
      "    (13): ReLU(inplace=True)\n",
      "    (14): Conv2d(256, 256, kernel_size=(3, 3), stride=(1, 1), padding=(1, 1))\n",
      "    (15): ReLU(inplace=True)\n",
      "    (16): MaxPool2d(kernel_size=2, stride=2, padding=0, dilation=1, ceil_mode=False)\n",
      "    (17): Conv2d(256, 512, kernel_size=(3, 3), stride=(1, 1), padding=(1, 1))\n",
      "    (18): ReLU(inplace=True)\n",
      "    (19): Conv2d(512, 512, kernel_size=(3, 3), stride=(1, 1), padding=(1, 1))\n",
      "    (20): ReLU(inplace=True)\n",
      "    (21): Conv2d(512, 512, kernel_size=(3, 3), stride=(1, 1), padding=(1, 1))\n",
      "    (22): ReLU(inplace=True)\n",
      "    (23): MaxPool2d(kernel_size=2, stride=2, padding=0, dilation=1, ceil_mode=False)\n",
      "    (24): Conv2d(512, 512, kernel_size=(3, 3), stride=(1, 1), padding=(1, 1))\n",
      "    (25): ReLU(inplace=True)\n",
      "    (26): Conv2d(512, 512, kernel_size=(3, 3), stride=(1, 1), padding=(1, 1))\n",
      "    (27): ReLU(inplace=True)\n",
      "    (28): Conv2d(512, 512, kernel_size=(3, 3), stride=(1, 1), padding=(1, 1))\n",
      "    (29): ReLU(inplace=True)\n",
      "    (30): MaxPool2d(kernel_size=2, stride=2, padding=0, dilation=1, ceil_mode=False)\n",
      "  )\n",
      "  (avgpool): AdaptiveAvgPool2d(output_size=(7, 7))\n",
      "  (classifier): Sequential(\n",
      "    (fc1): Linear(in_features=25088, out_features=4096, bias=True)\n",
      "    (relu1): ReLU(inplace=True)\n",
      "    (dropout1): Dropout(p=0.5, inplace=False)\n",
      "    (fc2): Linear(in_features=4096, out_features=4096, bias=True)\n",
      "    (relu2): ReLU(inplace=True)\n",
      "    (dropout2): Dropout(p=0.5, inplace=False)\n",
      "    (fc3): Linear(in_features=4096, out_features=102, bias=True)\n",
      "    (output): LogSoftmax(dim=1)\n",
      "  )\n",
      ")\n"
     ]
    }
   ],
   "source": [
    "PATH = \"checkpoint.pth\"\n",
    "\n",
    "model, epoch = load_model(model, optimizer, PATH)\n",
    "print(epoch)\n",
    "print(model)"
   ]
  },
  {
   "cell_type": "markdown",
   "metadata": {},
   "source": [
    "# Inference for classification\n",
    "\n",
    "Now you'll write a function to use a trained network for inference. That is, you'll pass an image into the network and predict the class of the flower in the image. Write a function called `predict` that takes an image and a model, then returns the top $K$ most likely classes along with the probabilities. It should look like \n",
    "\n",
    "```python\n",
    "probs, classes = predict(image_path, model)\n",
    "print(probs)\n",
    "print(classes)\n",
    "> [ 0.01558163  0.01541934  0.01452626  0.01443549  0.01407339]\n",
    "> ['70', '3', '45', '62', '55']\n",
    "```\n",
    "\n",
    "First you'll need to handle processing the input image such that it can be used in your network. \n",
    "\n",
    "## Image Preprocessing\n",
    "\n",
    "You'll want to use `PIL` to load the image ([documentation](https://pillow.readthedocs.io/en/latest/reference/Image.html)). It's best to write a function that preprocesses the image so it can be used as input for the model. This function should process the images in the same manner used for training. \n",
    "\n",
    "First, resize the images where the shortest side is 256 pixels, keeping the aspect ratio. This can be done with the [`thumbnail`](http://pillow.readthedocs.io/en/3.1.x/reference/Image.html#PIL.Image.Image.thumbnail) or [`resize`](http://pillow.readthedocs.io/en/3.1.x/reference/Image.html#PIL.Image.Image.thumbnail) methods. Then you'll need to crop out the center 224x224 portion of the image.\n",
    "\n",
    "Color channels of images are typically encoded as integers 0-255, but the model expected floats 0-1. You'll need to convert the values. It's easiest with a Numpy array, which you can get from a PIL image like so `np_image = np.array(pil_image)`.\n",
    "\n",
    "As before, the network expects the images to be normalized in a specific way. For the means, it's `[0.485, 0.456, 0.406]` and for the standard deviations `[0.229, 0.224, 0.225]`. You'll want to subtract the means from each color channel, then divide by the standard deviation. \n",
    "\n",
    "And finally, PyTorch expects the color channel to be the first dimension but it's the third dimension in the PIL image and Numpy array. You can reorder dimensions using [`ndarray.transpose`](https://docs.scipy.org/doc/numpy-1.13.0/reference/generated/numpy.ndarray.transpose.html). The color channel needs to be first and retain the order of the other two dimensions."
   ]
  },
  {
   "cell_type": "code",
   "execution_count": null,
   "metadata": {},
   "outputs": [],
   "source": [
    "def process_image(image):\n",
    "    ''' Scales, crops, and normalizes a PIL image for a PyTorch model,\n",
    "        returns an Numpy array\n",
    "    '''\n",
    "    \n",
    "    # TODO: Process a PIL image for use in a PyTorch model"
   ]
  },
  {
   "cell_type": "markdown",
   "metadata": {},
   "source": [
    "To check your work, the function below converts a PyTorch tensor and displays it in the notebook. If your `process_image` function works, running the output through this function should return the original image (except for the cropped out portions)."
   ]
  },
  {
   "cell_type": "code",
   "execution_count": null,
   "metadata": {},
   "outputs": [],
   "source": [
    "def imshow(image, ax=None, title=None):\n",
    "    \"\"\"Imshow for Tensor.\"\"\"\n",
    "    if ax is None:\n",
    "        fig, ax = plt.subplots()\n",
    "    \n",
    "    # PyTorch tensors assume the color channel is the first dimension\n",
    "    # but matplotlib assumes is the third dimension\n",
    "    image = image.numpy().transpose((1, 2, 0))\n",
    "    \n",
    "    # Undo preprocessing\n",
    "    mean = np.array([0.485, 0.456, 0.406])\n",
    "    std = np.array([0.229, 0.224, 0.225])\n",
    "    image = std * image + mean\n",
    "    \n",
    "    # Image needs to be clipped between 0 and 1 or it looks like noise when displayed\n",
    "    image = np.clip(image, 0, 1)\n",
    "    \n",
    "    ax.imshow(image)\n",
    "    \n",
    "    return ax"
   ]
  },
  {
   "cell_type": "markdown",
   "metadata": {},
   "source": [
    "## Class Prediction\n",
    "\n",
    "Once you can get images in the correct format, it's time to write a function for making predictions with your model. A common practice is to predict the top 5 or so (usually called top-$K$) most probable classes. You'll want to calculate the class probabilities then find the $K$ largest values.\n",
    "\n",
    "To get the top $K$ largest values in a tensor use [`x.topk(k)`](http://pytorch.org/docs/master/torch.html#torch.topk). This method returns both the highest `k` probabilities and the indices of those probabilities corresponding to the classes. You need to convert from these indices to the actual class labels using `class_to_idx` which hopefully you added to the model or from an `ImageFolder` you used to load the data ([see here](#Save-the-checkpoint)). Make sure to invert the dictionary so you get a mapping from index to class as well.\n",
    "\n",
    "Again, this method should take a path to an image and a model checkpoint, then return the probabilities and classes.\n",
    "\n",
    "```python\n",
    "probs, classes = predict(image_path, model)\n",
    "print(probs)\n",
    "print(classes)\n",
    "> [ 0.01558163  0.01541934  0.01452626  0.01443549  0.01407339]\n",
    "> ['70', '3', '45', '62', '55']\n",
    "```"
   ]
  },
  {
   "cell_type": "code",
   "execution_count": null,
   "metadata": {},
   "outputs": [],
   "source": [
    "def predict(image_path, model, topk=5):\n",
    "    ''' Predict the class (or classes) of an image using a trained deep learning model.\n",
    "    '''\n",
    "    \n",
    "    # TODO: Implement the code to predict the class from an image file"
   ]
  },
  {
   "cell_type": "markdown",
   "metadata": {},
   "source": [
    "## Sanity Checking\n",
    "\n",
    "Now that you can use a trained model for predictions, check to make sure it makes sense. Even if the testing accuracy is high, it's always good to check that there aren't obvious bugs. Use `matplotlib` to plot the probabilities for the top 5 classes as a bar graph, along with the input image. It should look like this:\n",
    "\n",
    "<img src='assets/inference_example.png' width=300px>\n",
    "\n",
    "You can convert from the class integer encoding to actual flower names with the `cat_to_name.json` file (should have been loaded earlier in the notebook). To show a PyTorch tensor as an image, use the `imshow` function defined above."
   ]
  },
  {
   "cell_type": "code",
   "execution_count": null,
   "metadata": {},
   "outputs": [],
   "source": [
    "# TODO: Display an image along with the top 5 classes"
   ]
  }
 ],
 "metadata": {
  "kernelspec": {
   "display_name": "ailf",
   "language": "python",
   "name": "python3"
  },
  "language_info": {
   "codemirror_mode": {
    "name": "ipython",
    "version": 3
   },
   "file_extension": ".py",
   "mimetype": "text/x-python",
   "name": "python",
   "nbconvert_exporter": "python",
   "pygments_lexer": "ipython3",
   "version": "3.7.16"
  }
 },
 "nbformat": 4,
 "nbformat_minor": 2
}
