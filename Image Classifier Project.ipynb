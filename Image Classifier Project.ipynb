{
 "cells": [
  {
   "attachments": {},
   "cell_type": "markdown",
   "metadata": {},
   "source": [
    "# Developing an AI application\n",
    "\n",
    "Going forward, AI algorithms will be incorporated into more and more everyday applications. For example, you might want to include an image classifier in a smart phone app. To do this, you'd use a deep learning model trained on hundreds of thousands of images as part of the overall application architecture. A large part of software development in the future will be using these types of models as common parts of applications. \n",
    "\n",
    "In this project, you'll train an image classifier to recognize different species of flowers. You can imagine using something like this in a phone app that tells you the name of the flower your camera is looking at. In practice you'd train this classifier, then export it for use in your application. We'll be using [this dataset](http://www.robots.ox.ac.uk/~vgg/data/flowers/102/index.html) of 102 flower categories, you can see a few examples below. \n",
    "\n",
    "<img src='assets/Flowers.png' width=500px>\n",
    "\n",
    "The project is broken down into multiple steps:\n",
    "\n",
    "* Load and preprocess the image dataset\n",
    "* Train the image classifier on your dataset\n",
    "* Use the trained classifier to predict image content\n",
    "\n",
    "We'll lead you through each part which you'll implement in Python.\n",
    "\n",
    "When you've completed this project, you'll have an application that can be trained on any set of labeled images. Here your network will be learning about flowers and end up as a command line application. But, what you do with your new skills depends on your imagination and effort in building a dataset. For example, imagine an app where you take a picture of a car, it tells you what the make and model is, then looks up information about it. Go build your own dataset and make something new.\n",
    "\n",
    "First up is importing the packages you'll need. It's good practice to keep all the imports at the beginning of your code. As you work through this notebook and find you need to import a package, make sure to add the import up here."
   ]
  },
  {
   "cell_type": "code",
   "execution_count": 1,
   "metadata": {},
   "outputs": [],
   "source": [
    "import torch\n",
    "from torch import nn\n",
    "import torch.nn.functional as F\n",
    "from torchvision import datasets, transforms, models\n",
    "import matplotlib.pyplot as plt\n",
    "import numpy as np\n",
    "import pandas as pd\n",
    "from collections import OrderedDict\n",
    "import train"
   ]
  },
  {
   "attachments": {},
   "cell_type": "markdown",
   "metadata": {},
   "source": [
    "## Load the data\n",
    "\n",
    "Here you'll use `torchvision` to load the data ([documentation](http://pytorch.org/docs/0.3.0/torchvision/index.html)). The data should be included alongside this notebook, otherwise you can [download it here](https://s3.amazonaws.com/content.udacity-data.com/nd089/flower_data.tar.gz). The dataset is split into three parts, training, validation, and testing. For the training, you'll want to apply transformations such as random scaling, cropping, and flipping. This will help the network generalize leading to better performance. You'll also need to make sure the input data is resized to 224x224 pixels as required by the pre-trained networks.\n",
    "\n",
    "The validation and testing sets are used to measure the model's performance on data it hasn't seen yet. For this you don't want any scaling or rotation transformations, but you'll need to resize then crop the images to the appropriate size.\n",
    "\n",
    "The pre-trained networks you'll use were trained on the ImageNet dataset where each color channel was normalized separately. For all three sets you'll need to normalize the means and standard deviations of the images to what the network expects. For the means, it's `[0.485, 0.456, 0.406]` and for the standard deviations `[0.229, 0.224, 0.225]`, calculated from the ImageNet images.  These values will shift each color channel to be centered at 0 and range from -1 to 1.\n",
    " "
   ]
  },
  {
   "cell_type": "code",
   "execution_count": 2,
   "metadata": {},
   "outputs": [],
   "source": [
    "data_dir = 'flowers'\n",
    "train_dir = data_dir + '/train'\n",
    "valid_dir = data_dir + '/valid'\n",
    "test_dir = data_dir + '/test'"
   ]
  },
  {
   "cell_type": "code",
   "execution_count": 3,
   "metadata": {},
   "outputs": [],
   "source": [
    "# TODO: Define your transforms for the training, validation, and testing sets\n",
    "train_transforms = transforms.Compose([transforms.RandomRotation(30),\n",
    "                                       transforms.RandomResizedCrop(224),\n",
    "                                       transforms.RandomHorizontalFlip(),\n",
    "                                       transforms.ToTensor(),\n",
    "                                       transforms.Normalize([0.485, 0.456, 0.406],\n",
    "                                                            [0.229, 0.224, 0.225])])\n",
    "\n",
    "test_transforms = transforms.Compose([transforms.Resize(255),\n",
    "                                      transforms.CenterCrop(224),\n",
    "                                      transforms.ToTensor(),\n",
    "                                      transforms.Normalize([0.485, 0.456, 0.406],\n",
    "                                                           [0.229, 0.224, 0.225])])\n",
    "\n",
    "valid_transforms = transforms.Compose([transforms.Resize(255),\n",
    "                                      transforms.CenterCrop(224),\n",
    "                                      transforms.ToTensor(),\n",
    "                                      transforms.Normalize([0.485, 0.456, 0.406],\n",
    "                                                           [0.229, 0.224, 0.225])])\n",
    "\n",
    "# TODO: Load the datasets with ImageFolder\n",
    "train_data = datasets.ImageFolder(train_dir, transform=train_transforms)\n",
    "test_data = datasets.ImageFolder(test_dir, transform=test_transforms)\n",
    "valid_data = datasets.ImageFolder(valid_dir, transform=valid_transforms)\n",
    "\n",
    "# TODO: Using the image datasets and the trainforms, define the dataloaders\n",
    "train_loader = torch.utils.data.DataLoader(train_data, batch_size=32, shuffle=True)\n",
    "test_loader = torch.utils.data.DataLoader(test_data, batch_size=32)\n",
    "valid_loader = torch.utils.data.DataLoader(valid_data, batch_size=32)"
   ]
  },
  {
   "attachments": {},
   "cell_type": "markdown",
   "metadata": {},
   "source": [
    "### Label mapping\n",
    "\n",
    "You'll also need to load in a mapping from category label to category name. You can find this in the file `cat_to_name.json`. It's a JSON object which you can read in with the [`json` module](https://docs.python.org/2/library/json.html). This will give you a dictionary mapping the integer encoded categories to the actual names of the flowers."
   ]
  },
  {
   "cell_type": "code",
   "execution_count": 4,
   "metadata": {},
   "outputs": [],
   "source": [
    "import json\n",
    "\n",
    "with open('cat_to_name.json', 'r') as f:\n",
    "    cat_to_name = json.load(f)"
   ]
  },
  {
   "cell_type": "code",
   "execution_count": 5,
   "metadata": {},
   "outputs": [
    {
     "data": {
      "text/plain": [
       "[('21', 'fire lily'),\n",
       " ('3', 'canterbury bells'),\n",
       " ('45', 'bolero deep blue'),\n",
       " ('1', 'pink primrose')]"
      ]
     },
     "execution_count": 5,
     "metadata": {},
     "output_type": "execute_result"
    }
   ],
   "source": [
    "list(cat_to_name.items())[:4]"
   ]
  },
  {
   "cell_type": "code",
   "execution_count": 6,
   "metadata": {},
   "outputs": [
    {
     "data": {
      "text/plain": [
       "102"
      ]
     },
     "execution_count": 6,
     "metadata": {},
     "output_type": "execute_result"
    }
   ],
   "source": [
    "num_classes = len(cat_to_name)\n",
    "num_classes"
   ]
  },
  {
   "attachments": {},
   "cell_type": "markdown",
   "metadata": {},
   "source": [
    "# Building and training the classifier\n",
    "\n",
    "Now that the data is ready, it's time to build and train the classifier. As usual, you should use one of the pretrained models from `torchvision.models` to get the image features. Build and train a new feed-forward classifier using those features.\n",
    "\n",
    "We're going to leave this part up to you. Refer to [the rubric](https://review.udacity.com/#!/rubrics/1663/view) for guidance on successfully completing this section. Things you'll need to do:\n",
    "\n",
    "* Load a [pre-trained network](http://pytorch.org/docs/master/torchvision/models.html) (If you need a starting point, the VGG networks work great and are straightforward to use)\n",
    "* Define a new, untrained feed-forward network as a classifier, using ReLU activations and dropout\n",
    "* Train the classifier layers using backpropagation using the pre-trained network to get the features\n",
    "* Track the loss and accuracy on the validation set to determine the best hyperparameters\n",
    "\n",
    "We've left a cell open for you below, but use as many as you need. Our advice is to break the problem up into smaller parts you can run separately. Check that each part is doing what you expect, then move on to the next. You'll likely find that as you work through each part, you'll need to go back and modify your previous code. This is totally normal!\n",
    "\n",
    "When training make sure you're updating only the weights of the feed-forward network. You should be able to get the validation accuracy above 70% if you build everything right. Make sure to try different hyperparameters (learning rate, units in the classifier, epochs, etc) to find the best model. Save those hyperparameters to use as default values in the next part of the project.\n",
    "\n",
    "One last important tip if you're using the workspace to run your code: To avoid having your workspace disconnect during the long-running tasks in this notebook, please read in the earlier page in this lesson called Intro to\n",
    "GPU Workspaces about Keeping Your Session Active. You'll want to include code from the workspace_utils.py module.\n",
    "\n",
    "**Note for Workspace users:** If your network is over 1 GB when saved as a checkpoint, there might be issues with saving backups in your workspace. Typically this happens with wide dense layers after the convolutional layers. If your saved checkpoint is larger than 1 GB (you can open a terminal and check with `ls -lh`), you should reduce the size of your hidden layers and train again."
   ]
  },
  {
   "cell_type": "code",
   "execution_count": 7,
   "metadata": {},
   "outputs": [],
   "source": [
    "# TODO: Build and train your network\n",
    "\n",
    "# use VGG with 16 layers as suggested in https://arxiv.org/pdf/1409.1556.pdf\n",
    "model = models.vgg16(weights='DEFAULT')\n",
    "\n",
    "# switch off gradient computation for features\n",
    "for param in model.parameters():\n",
    "    param.requires_grad = False\n",
    "\n",
    "# determine the size of the input layer for the classifier part\n",
    "classifier_in_features_num = model.classifier[0].in_features\n",
    "\n",
    "# create custom classifier for our problem\n",
    "classifier = torch.nn.Sequential(OrderedDict([\n",
    "                          ('fc1', torch.nn.Linear(in_features=classifier_in_features_num, out_features=4096, bias=True)),\n",
    "                          ('relu1', torch.nn.ReLU(inplace=True)),\n",
    "                          ('dropout1', torch.nn.Dropout(p=0.5, inplace=False)),\n",
    "                          ('fc2', torch.nn.Linear(in_features=4096, out_features=4096, bias=True)),\n",
    "                          ('relu2', torch.nn.ReLU(inplace=True)),\n",
    "                          ('dropout2', torch.nn.Dropout(p=0.5, inplace=False)),\n",
    "                          ('fc3', torch.nn.Linear(in_features=4096, out_features=num_classes, bias=True)),\n",
    "                          ('output', torch.nn.LogSoftmax(dim=1))\n",
    "                          ]))\n",
    "\n",
    "# replace the default classifier with our custom classifier\n",
    "model.classifier = classifier"
   ]
  },
  {
   "cell_type": "code",
   "execution_count": 8,
   "metadata": {},
   "outputs": [
    {
     "data": {
      "text/plain": [
       "Sequential(\n",
       "  (fc1): Linear(in_features=25088, out_features=4096, bias=True)\n",
       "  (relu1): ReLU(inplace=True)\n",
       "  (dropout1): Dropout(p=0.5, inplace=False)\n",
       "  (fc2): Linear(in_features=4096, out_features=4096, bias=True)\n",
       "  (relu2): ReLU(inplace=True)\n",
       "  (dropout2): Dropout(p=0.5, inplace=False)\n",
       "  (fc3): Linear(in_features=4096, out_features=102, bias=True)\n",
       "  (output): LogSoftmax(dim=1)\n",
       ")"
      ]
     },
     "execution_count": 8,
     "metadata": {},
     "output_type": "execute_result"
    }
   ],
   "source": [
    "model.classifier"
   ]
  },
  {
   "cell_type": "code",
   "execution_count": 9,
   "metadata": {},
   "outputs": [
    {
     "data": {
      "text/plain": [
       "True"
      ]
     },
     "execution_count": 9,
     "metadata": {},
     "output_type": "execute_result"
    }
   ],
   "source": [
    "torch.cuda.is_available()"
   ]
  },
  {
   "cell_type": "code",
   "execution_count": 10,
   "metadata": {},
   "outputs": [],
   "source": [
    "def train(device, model, train_loader, test_loader, criterion, optimizer, epochs=5, print_every=10):\n",
    "    model.to(device)\n",
    "    steps = 0\n",
    "    running_loss = 0\n",
    "    for epoch in range(epochs):\n",
    "        for inputs, labels in train_loader:\n",
    "            steps += 1\n",
    "            # Move input and label tensors to the default device\n",
    "            inputs, labels = inputs.to(device), labels.to(device)\n",
    "            \n",
    "            logps = model.forward(inputs)\n",
    "            loss = criterion(logps, labels)\n",
    "            \n",
    "            optimizer.zero_grad()\n",
    "            loss.backward()\n",
    "            optimizer.step()\n",
    "\n",
    "            running_loss += loss.item()\n",
    "            \n",
    "            if steps % print_every == 0:\n",
    "                valid_loss = 0\n",
    "                accuracy = 0\n",
    "                model.eval()\n",
    "                with torch.no_grad():\n",
    "                    for inputs, labels in test_loader:\n",
    "                        inputs, labels = inputs.to(device), labels.to(device)\n",
    "                        logps = model.forward(inputs)\n",
    "                        batch_loss = criterion(logps, labels)\n",
    "                        \n",
    "                        valid_loss += batch_loss.item()\n",
    "                        \n",
    "                        # Calculate accuracy\n",
    "                        ps = torch.exp(logps)\n",
    "                        top_p, top_class = ps.topk(1, dim=1)\n",
    "                        equals = top_class == labels.view(*top_class.shape)\n",
    "                        accuracy += torch.mean(equals.type(torch.FloatTensor)).item()\n",
    "                        \n",
    "                print(f\"Epoch {epoch+1}/{epochs}, \"\n",
    "                    f\"Train loss: {running_loss/print_every:.3f}, \"\n",
    "                    f\"Test loss: {valid_loss/len(test_loader):.3f} \"\n",
    "                    f\"Accuracy: {accuracy/len(test_loader):.3f}\")\n",
    "                running_loss = 0\n",
    "                model.train()"
   ]
  },
  {
   "cell_type": "code",
   "execution_count": 11,
   "metadata": {},
   "outputs": [
    {
     "name": "stdout",
     "output_type": "stream",
     "text": [
      "Learning rate: 0.0005\n",
      "Epoch 1/1, Train loss: 4.771, Test loss: 4.221 Accuracy: 0.159\n",
      "Epoch 1/1, Train loss: 4.168, Test loss: 3.571 Accuracy: 0.268\n",
      "Epoch 1/1, Train loss: 3.660, Test loss: 2.815 Accuracy: 0.345\n",
      "Epoch 1/1, Train loss: 3.105, Test loss: 2.471 Accuracy: 0.381\n",
      "Epoch 1/1, Train loss: 2.781, Test loss: 1.897 Accuracy: 0.509\n",
      "Epoch 1/1, Train loss: 2.605, Test loss: 1.679 Accuracy: 0.563\n",
      "Epoch 1/1, Train loss: 2.391, Test loss: 1.593 Accuracy: 0.572\n",
      "Epoch 1/1, Train loss: 2.174, Test loss: 1.390 Accuracy: 0.616\n",
      "Epoch 1/1, Train loss: 2.089, Test loss: 1.388 Accuracy: 0.626\n",
      "Epoch 1/1, Train loss: 1.992, Test loss: 1.260 Accuracy: 0.665\n",
      "Learning rate: 0.001\n",
      "Epoch 1/1, Train loss: 2.514, Test loss: 1.548 Accuracy: 0.625\n",
      "Epoch 1/1, Train loss: 2.414, Test loss: 1.361 Accuracy: 0.623\n",
      "Epoch 1/1, Train loss: 2.278, Test loss: 1.176 Accuracy: 0.677\n",
      "Epoch 1/1, Train loss: 2.389, Test loss: 1.263 Accuracy: 0.658\n",
      "Epoch 1/1, Train loss: 2.398, Test loss: 1.308 Accuracy: 0.623\n",
      "Epoch 1/1, Train loss: 2.296, Test loss: 1.345 Accuracy: 0.636\n",
      "Epoch 1/1, Train loss: 2.473, Test loss: 1.332 Accuracy: 0.636\n",
      "Epoch 1/1, Train loss: 2.518, Test loss: 1.220 Accuracy: 0.679\n",
      "Epoch 1/1, Train loss: 2.564, Test loss: 1.233 Accuracy: 0.666\n",
      "Epoch 1/1, Train loss: 2.539, Test loss: 1.237 Accuracy: 0.686\n",
      "Learning rate: 0.0015\n",
      "Epoch 1/1, Train loss: 3.080, Test loss: 1.382 Accuracy: 0.676\n",
      "Epoch 1/1, Train loss: 3.069, Test loss: 1.573 Accuracy: 0.601\n",
      "Epoch 1/1, Train loss: 2.778, Test loss: 1.374 Accuracy: 0.647\n",
      "Epoch 1/1, Train loss: 3.413, Test loss: 1.516 Accuracy: 0.639\n",
      "Epoch 1/1, Train loss: 2.977, Test loss: 1.440 Accuracy: 0.638\n",
      "Epoch 1/1, Train loss: 2.773, Test loss: 1.500 Accuracy: 0.612\n",
      "Epoch 1/1, Train loss: 3.309, Test loss: 1.423 Accuracy: 0.658\n",
      "Epoch 1/1, Train loss: 3.130, Test loss: 1.564 Accuracy: 0.605\n",
      "Epoch 1/1, Train loss: 3.349, Test loss: 1.493 Accuracy: 0.611\n",
      "Epoch 1/1, Train loss: 3.286, Test loss: 1.504 Accuracy: 0.635\n"
     ]
    }
   ],
   "source": [
    "device = torch.device(\"cuda\" if torch.cuda.is_available() else \"cpu\")\n",
    "criterion = torch.nn.NLLLoss()\n",
    "\n",
    "for learning_rate in [0.0005, 0.0008, 0.001, 0.0012, 0.0015]:\n",
    "    print(f'Learning rate: {learning_rate}')\n",
    "    # reset classifier weights\n",
    "    model.classifier.reset_parameters()\n",
    "    optimizer = torch.optim.Adam(model.classifier.parameters(), lr=learning_rate)\n",
    "    train_losses, test_losses, accuracies = train(device, model, train_loader, valid_loader, criterion, optimizer, epochs=1, print_every=20)"
   ]
  },
  {
   "attachments": {},
   "cell_type": "markdown",
   "metadata": {},
   "source": [
    "best learning rate for VGG16, NLLLoss and Adam is 0.001, because it leads to good validation accuracy at a comparitively high learning rate"
   ]
  },
  {
   "cell_type": "code",
   "execution_count": 11,
   "metadata": {},
   "outputs": [
    {
     "name": "stdout",
     "output_type": "stream",
     "text": [
      "Epoch 1/10, Train loss: 4.764, Test loss: 3.903 Accuracy: 0.201\n",
      "Epoch 1/10, Train loss: 3.732, Test loss: 3.002 Accuracy: 0.299\n",
      "Epoch 1/10, Train loss: 3.232, Test loss: 2.383 Accuracy: 0.437\n",
      "Epoch 1/10, Train loss: 2.858, Test loss: 1.882 Accuracy: 0.496\n",
      "Epoch 1/10, Train loss: 2.732, Test loss: 1.653 Accuracy: 0.580\n",
      "Epoch 1/10, Train loss: 2.707, Test loss: 1.546 Accuracy: 0.574\n",
      "Epoch 2/10, Train loss: 2.507, Test loss: 1.547 Accuracy: 0.573\n",
      "Epoch 2/10, Train loss: 2.516, Test loss: 1.411 Accuracy: 0.614\n",
      "Epoch 2/10, Train loss: 2.554, Test loss: 1.305 Accuracy: 0.648\n",
      "Epoch 2/10, Train loss: 2.482, Test loss: 1.299 Accuracy: 0.645\n",
      "Epoch 2/10, Train loss: 2.481, Test loss: 1.344 Accuracy: 0.626\n",
      "Epoch 2/10, Train loss: 2.369, Test loss: 1.306 Accuracy: 0.624\n",
      "Epoch 3/10, Train loss: 2.389, Test loss: 1.314 Accuracy: 0.658\n",
      "Epoch 3/10, Train loss: 2.348, Test loss: 1.096 Accuracy: 0.709\n",
      "Epoch 3/10, Train loss: 2.427, Test loss: 1.135 Accuracy: 0.691\n",
      "Epoch 3/10, Train loss: 2.344, Test loss: 1.255 Accuracy: 0.657\n",
      "Epoch 3/10, Train loss: 2.376, Test loss: 1.179 Accuracy: 0.682\n",
      "Epoch 3/10, Train loss: 2.347, Test loss: 1.075 Accuracy: 0.717\n",
      "Epoch 3/10, Train loss: 2.380, Test loss: 1.145 Accuracy: 0.708\n",
      "Epoch 4/10, Train loss: 2.191, Test loss: 1.068 Accuracy: 0.714\n",
      "Epoch 4/10, Train loss: 2.361, Test loss: 1.131 Accuracy: 0.709\n",
      "Epoch 4/10, Train loss: 2.120, Test loss: 1.126 Accuracy: 0.728\n",
      "Epoch 4/10, Train loss: 2.321, Test loss: 1.081 Accuracy: 0.717\n",
      "Epoch 4/10, Train loss: 2.159, Test loss: 1.147 Accuracy: 0.715\n",
      "Epoch 4/10, Train loss: 2.198, Test loss: 1.049 Accuracy: 0.747\n",
      "Epoch 5/10, Train loss: 2.151, Test loss: 1.001 Accuracy: 0.762\n",
      "Epoch 5/10, Train loss: 2.196, Test loss: 1.030 Accuracy: 0.747\n",
      "Epoch 5/10, Train loss: 2.431, Test loss: 1.021 Accuracy: 0.761\n",
      "Epoch 5/10, Train loss: 2.176, Test loss: 0.940 Accuracy: 0.761\n",
      "Epoch 5/10, Train loss: 2.148, Test loss: 0.959 Accuracy: 0.756\n",
      "Epoch 5/10, Train loss: 1.981, Test loss: 0.952 Accuracy: 0.757\n",
      "Epoch 5/10, Train loss: 1.980, Test loss: 0.986 Accuracy: 0.760\n",
      "Epoch 6/10, Train loss: 2.011, Test loss: 0.897 Accuracy: 0.793\n",
      "Epoch 6/10, Train loss: 2.146, Test loss: 0.885 Accuracy: 0.767\n",
      "Epoch 6/10, Train loss: 1.808, Test loss: 0.979 Accuracy: 0.759\n",
      "Epoch 6/10, Train loss: 2.094, Test loss: 0.961 Accuracy: 0.771\n",
      "Epoch 6/10, Train loss: 2.051, Test loss: 0.967 Accuracy: 0.772\n",
      "Epoch 6/10, Train loss: 1.963, Test loss: 0.940 Accuracy: 0.775\n",
      "Epoch 7/10, Train loss: 2.024, Test loss: 0.866 Accuracy: 0.800\n",
      "Epoch 7/10, Train loss: 1.896, Test loss: 0.856 Accuracy: 0.796\n",
      "Epoch 7/10, Train loss: 2.014, Test loss: 0.836 Accuracy: 0.807\n",
      "Epoch 7/10, Train loss: 1.852, Test loss: 0.800 Accuracy: 0.815\n",
      "Epoch 7/10, Train loss: 2.090, Test loss: 0.851 Accuracy: 0.811\n",
      "Epoch 7/10, Train loss: 2.119, Test loss: 0.925 Accuracy: 0.785\n",
      "Epoch 8/10, Train loss: 2.114, Test loss: 0.817 Accuracy: 0.817\n",
      "Epoch 8/10, Train loss: 1.892, Test loss: 0.806 Accuracy: 0.810\n",
      "Epoch 8/10, Train loss: 2.058, Test loss: 0.910 Accuracy: 0.787\n",
      "Epoch 8/10, Train loss: 2.052, Test loss: 0.780 Accuracy: 0.833\n",
      "Epoch 8/10, Train loss: 1.944, Test loss: 0.870 Accuracy: 0.813\n",
      "Epoch 8/10, Train loss: 1.942, Test loss: 0.900 Accuracy: 0.808\n",
      "Epoch 8/10, Train loss: 1.978, Test loss: 0.829 Accuracy: 0.794\n",
      "Epoch 9/10, Train loss: 2.026, Test loss: 0.821 Accuracy: 0.798\n",
      "Epoch 9/10, Train loss: 1.987, Test loss: 0.899 Accuracy: 0.799\n",
      "Epoch 9/10, Train loss: 1.929, Test loss: 0.888 Accuracy: 0.790\n",
      "Epoch 9/10, Train loss: 2.059, Test loss: 0.886 Accuracy: 0.784\n",
      "Epoch 9/10, Train loss: 2.042, Test loss: 0.934 Accuracy: 0.805\n",
      "Epoch 9/10, Train loss: 1.989, Test loss: 0.829 Accuracy: 0.813\n",
      "Epoch 10/10, Train loss: 2.169, Test loss: 0.901 Accuracy: 0.810\n",
      "Epoch 10/10, Train loss: 2.130, Test loss: 0.876 Accuracy: 0.798\n",
      "Epoch 10/10, Train loss: 2.045, Test loss: 0.852 Accuracy: 0.810\n",
      "Epoch 10/10, Train loss: 1.952, Test loss: 0.823 Accuracy: 0.819\n",
      "Epoch 10/10, Train loss: 2.045, Test loss: 0.891 Accuracy: 0.806\n",
      "Epoch 10/10, Train loss: 2.024, Test loss: 0.796 Accuracy: 0.818\n",
      "Epoch 10/10, Train loss: 2.031, Test loss: 0.922 Accuracy: 0.808\n"
     ]
    }
   ],
   "source": [
    "device = torch.device(\"cuda\" if torch.cuda.is_available() else \"cpu\")\n",
    "criterion = torch.nn.NLLLoss()\n",
    "\n",
    "best_learning_rate = 0.0008\n",
    "optimizer = torch.optim.Adam(model.classifier.parameters(), lr=best_learning_rate)\n",
    "\n",
    "train(device, model, train_loader, valid_loader, criterion, optimizer, epochs=10, print_every=32)"
   ]
  },
  {
   "attachments": {},
   "cell_type": "markdown",
   "metadata": {},
   "source": [
    "## Testing your network\n",
    "\n",
    "It's good practice to test your trained network on test data, images the network has never seen either in training or validation. This will give you a good estimate for the model's performance on completely new images. Run the test images through the network and measure the accuracy, the same way you did validation. You should be able to reach around 70% accuracy on the test set if the model has been trained well."
   ]
  },
  {
   "cell_type": "code",
   "execution_count": 15,
   "metadata": {},
   "outputs": [],
   "source": [
    "def test(device, model, test_loader, criterion):\n",
    "    test_loss = 0\n",
    "    accuracy = 0\n",
    "    model.eval()\n",
    "    with torch.no_grad():\n",
    "        for inputs, labels in test_loader:\n",
    "            inputs, labels = inputs.to(device), labels.to(device)\n",
    "            logps = model.forward(inputs)\n",
    "            batch_loss = criterion(logps, labels)\n",
    "            \n",
    "            test_loss += batch_loss.item()\n",
    "            \n",
    "            # Calculate accuracy\n",
    "            ps = torch.exp(logps)\n",
    "            top_p, top_class = ps.topk(1, dim=1)\n",
    "            equals = top_class == labels.view(*top_class.shape)\n",
    "            accuracy += torch.mean(equals.type(torch.FloatTensor)).item()\n",
    "            \n",
    "    print(f\"Test loss: {test_loss/len(test_loader):.3f} \"\n",
    "        f\"Accuracy: {accuracy/len(test_loader):.3f}\")"
   ]
  },
  {
   "cell_type": "code",
   "execution_count": 19,
   "metadata": {},
   "outputs": [
    {
     "name": "stdout",
     "output_type": "stream",
     "text": [
      "Test loss: 1.032 Accuracy: 0.774\n"
     ]
    }
   ],
   "source": [
    "device = torch.device(\"cuda\" if torch.cuda.is_available() else \"cpu\")\n",
    "model.to(device)\n",
    "\n",
    "test(device, model, test_loader, criterion)"
   ]
  },
  {
   "attachments": {},
   "cell_type": "markdown",
   "metadata": {},
   "source": [
    "## Save the checkpoint\n",
    "\n",
    "Now that your network is trained, save the model so you can load it later for making predictions. You probably want to save other things such as the mapping of classes to indices which you get from one of the image datasets: `image_datasets['train'].class_to_idx`. You can attach this to the model as an attribute which makes inference easier later on.\n",
    "\n",
    "```model.class_to_idx = image_datasets['train'].class_to_idx```\n",
    "\n",
    "Remember that you'll want to completely rebuild the model later so you can use it for inference. Make sure to include any information you need in the checkpoint. If you want to load the model and keep training, you'll want to save the number of epochs as well as the optimizer state, `optimizer.state_dict`. You'll likely want to use this trained model in the next part of the project, so best to save it now."
   ]
  },
  {
   "cell_type": "code",
   "execution_count": 24,
   "metadata": {},
   "outputs": [
    {
     "data": {
      "text/plain": [
       "{'1': 0,\n",
       " '10': 1,\n",
       " '100': 2,\n",
       " '101': 3,\n",
       " '102': 4,\n",
       " '11': 5,\n",
       " '12': 6,\n",
       " '13': 7,\n",
       " '14': 8,\n",
       " '15': 9,\n",
       " '16': 10,\n",
       " '17': 11,\n",
       " '18': 12,\n",
       " '19': 13,\n",
       " '2': 14,\n",
       " '20': 15,\n",
       " '21': 16,\n",
       " '22': 17,\n",
       " '23': 18,\n",
       " '24': 19,\n",
       " '25': 20,\n",
       " '26': 21,\n",
       " '27': 22,\n",
       " '28': 23,\n",
       " '29': 24,\n",
       " '3': 25,\n",
       " '30': 26,\n",
       " '31': 27,\n",
       " '32': 28,\n",
       " '33': 29,\n",
       " '34': 30,\n",
       " '35': 31,\n",
       " '36': 32,\n",
       " '37': 33,\n",
       " '38': 34,\n",
       " '39': 35,\n",
       " '4': 36,\n",
       " '40': 37,\n",
       " '41': 38,\n",
       " '42': 39,\n",
       " '43': 40,\n",
       " '44': 41,\n",
       " '45': 42,\n",
       " '46': 43,\n",
       " '47': 44,\n",
       " '48': 45,\n",
       " '49': 46,\n",
       " '5': 47,\n",
       " '50': 48,\n",
       " '51': 49,\n",
       " '52': 50,\n",
       " '53': 51,\n",
       " '54': 52,\n",
       " '55': 53,\n",
       " '56': 54,\n",
       " '57': 55,\n",
       " '58': 56,\n",
       " '59': 57,\n",
       " '6': 58,\n",
       " '60': 59,\n",
       " '61': 60,\n",
       " '62': 61,\n",
       " '63': 62,\n",
       " '64': 63,\n",
       " '65': 64,\n",
       " '66': 65,\n",
       " '67': 66,\n",
       " '68': 67,\n",
       " '69': 68,\n",
       " '7': 69,\n",
       " '70': 70,\n",
       " '71': 71,\n",
       " '72': 72,\n",
       " '73': 73,\n",
       " '74': 74,\n",
       " '75': 75,\n",
       " '76': 76,\n",
       " '77': 77,\n",
       " '78': 78,\n",
       " '79': 79,\n",
       " '8': 80,\n",
       " '80': 81,\n",
       " '81': 82,\n",
       " '82': 83,\n",
       " '83': 84,\n",
       " '84': 85,\n",
       " '85': 86,\n",
       " '86': 87,\n",
       " '87': 88,\n",
       " '88': 89,\n",
       " '89': 90,\n",
       " '9': 91,\n",
       " '90': 92,\n",
       " '91': 93,\n",
       " '92': 94,\n",
       " '93': 95,\n",
       " '94': 96,\n",
       " '95': 97,\n",
       " '96': 98,\n",
       " '97': 99,\n",
       " '98': 100,\n",
       " '99': 101}"
      ]
     },
     "execution_count": 24,
     "metadata": {},
     "output_type": "execute_result"
    }
   ],
   "source": [
    "model.class_to_idx = train_data.class_to_idx\n",
    "model.class_to_idx"
   ]
  },
  {
   "cell_type": "code",
   "execution_count": 23,
   "metadata": {},
   "outputs": [
    {
     "data": {
      "text/plain": [
       "OrderedDict([('fc1.weight',\n",
       "              tensor([[-8.6216e-03,  1.1311e-03,  4.5222e-03,  ...,  3.4496e-03,\n",
       "                        3.6735e-05, -5.0760e-03],\n",
       "                      [ 4.1055e-03,  5.0968e-03,  7.9693e-03,  ..., -1.0752e-02,\n",
       "                       -3.8354e-03, -2.7297e-03],\n",
       "                      [-4.1799e-03, -7.8749e-03, -7.7072e-03,  ..., -1.0663e-02,\n",
       "                       -3.6037e-04, -3.7683e-03],\n",
       "                      ...,\n",
       "                      [-2.7223e-03, -1.4739e-03, -4.4981e-03,  ..., -5.7961e-04,\n",
       "                        3.1358e-03, -7.7630e-03],\n",
       "                      [ 5.8307e-03, -2.2884e-02,  5.4619e-02,  ...,  2.0751e-02,\n",
       "                        2.3087e-02, -2.5759e-02],\n",
       "                      [ 4.8443e-02, -2.6774e-02, -2.9270e-02,  ...,  1.4618e-03,\n",
       "                        1.7528e-02,  1.5851e-02]], device='cuda:0')),\n",
       "             ('fc1.bias',\n",
       "              tensor([-0.0047, -0.0042, -0.0094,  ..., -0.0013, -0.0143,  0.0072],\n",
       "                     device='cuda:0')),\n",
       "             ('fc2.weight',\n",
       "              tensor([[ 0.0029, -0.0021, -0.0111,  ..., -0.0150,  0.0423, -0.0329],\n",
       "                      [ 0.0111,  0.0084, -0.0142,  ..., -0.0044,  0.0192,  0.0292],\n",
       "                      [ 0.0083, -0.0026, -0.0022,  ..., -0.0028, -0.0379, -0.0077],\n",
       "                      ...,\n",
       "                      [-0.0073,  0.0126,  0.0027,  ...,  0.0063,  0.0113, -0.0675],\n",
       "                      [-0.0042, -0.0095,  0.0037,  ...,  0.0021,  0.0160, -0.0525],\n",
       "                      [-0.0013, -0.0152,  0.0068,  ..., -0.0043,  0.0330,  0.0512]],\n",
       "                     device='cuda:0')),\n",
       "             ('fc2.bias',\n",
       "              tensor([-0.0477,  0.0222, -0.0537,  ..., -0.0766, -0.0782, -0.0716],\n",
       "                     device='cuda:0')),\n",
       "             ('fc3.weight',\n",
       "              tensor([[-6.1157e-02,  1.3615e-02, -4.4940e-02,  ...,  1.2089e-04,\n",
       "                        4.4292e-02,  6.2881e-03],\n",
       "                      [-1.0647e-02,  1.5806e-02, -1.3669e-02,  ..., -1.1186e-02,\n",
       "                       -3.6694e-02, -9.4110e-02],\n",
       "                      [-8.3431e-02, -3.5194e-02, -2.5594e-02,  ...,  2.1677e-02,\n",
       "                       -2.9937e-02, -1.9207e-03],\n",
       "                      ...,\n",
       "                      [-3.5745e-03,  2.6344e-02,  6.1572e-04,  ..., -3.3812e-02,\n",
       "                       -8.0830e-03, -6.8420e-02],\n",
       "                      [-8.2740e-02, -2.6826e-03, -4.6785e-02,  ..., -1.1588e-02,\n",
       "                       -1.3278e-01, -4.0576e-02],\n",
       "                      [-5.3919e-02, -2.0481e-02, -4.3893e-02,  ..., -2.9629e-02,\n",
       "                       -4.1433e-02, -2.8235e-02]], device='cuda:0')),\n",
       "             ('fc3.bias',\n",
       "              tensor([ 5.9548e-02, -2.2664e-02, -6.1111e-03,  1.7824e-02, -6.5229e-02,\n",
       "                      -1.3601e-02, -2.1699e-02, -1.6394e-02, -1.2380e-02,  1.1215e-03,\n",
       "                       2.1343e-02, -8.7568e-03,  7.9932e-02,  3.9369e-02, -3.1763e-02,\n",
       "                      -1.2794e-03,  1.9650e-02,  2.4645e-02, -2.8332e-02,  5.1142e-02,\n",
       "                      -1.8305e-02, -1.5915e-02, -2.7116e-02,  1.3747e-02, -1.0142e-01,\n",
       "                       8.2461e-02, -3.1080e-02,  8.7869e-03,  5.5650e-02,  4.9197e-02,\n",
       "                      -1.1788e-02, -1.1426e-01, -5.9083e-03, -3.3511e-02,  1.1518e-02,\n",
       "                       9.0804e-02,  5.5574e-02,  6.9994e-02, -7.0346e-02,  6.2372e-02,\n",
       "                       9.8546e-04, -3.7880e-02,  3.3253e-02, -2.1560e-03, -5.8868e-02,\n",
       "                      -2.4415e-02, -1.0476e-01,  5.2298e-02,  4.9117e-03,  3.3206e-02,\n",
       "                       5.4527e-02, -5.6135e-02, -1.1722e-02,  8.9420e-02,  3.9642e-02,\n",
       "                       2.3793e-02, -2.5811e-02,  5.9318e-03, -1.2028e-01, -5.6797e-03,\n",
       "                       2.8129e-02,  5.5668e-02, -7.2623e-02,  3.4683e-02,  3.1391e-02,\n",
       "                      -7.5261e-02,  4.6939e-03, -2.4338e-02, -1.7282e-02, -3.1749e-02,\n",
       "                      -6.4919e-03, -6.6648e-02,  5.3865e-02,  2.0343e-02,  2.3476e-02,\n",
       "                      -4.8039e-02, -1.5669e-02, -1.0160e-02,  1.1137e-02, -3.9911e-02,\n",
       "                      -5.1715e-02, -4.6057e-02, -7.9100e-02,  7.6626e-03, -1.3003e-02,\n",
       "                       5.2565e-02,  7.0293e-03,  1.4129e-02,  2.0528e-02,  4.5058e-04,\n",
       "                      -6.9005e-06, -1.9633e-02, -3.5663e-02, -4.8282e-02, -4.3834e-03,\n",
       "                       1.1643e-01, -5.6814e-02,  5.7877e-02,  3.9620e-02,  2.7138e-02,\n",
       "                       2.6787e-02, -8.0702e-02], device='cuda:0'))])"
      ]
     },
     "execution_count": 23,
     "metadata": {},
     "output_type": "execute_result"
    }
   ],
   "source": [
    "model.classifier.state_dict()"
   ]
  },
  {
   "cell_type": "code",
   "execution_count": 29,
   "metadata": {},
   "outputs": [],
   "source": [
    "# TODO: Save the checkpoint \n",
    "EPOCH = 10\n",
    "PATH = \"checkpoint.pth\"\n",
    "\n",
    "torch.save({\n",
    "            'epoch': EPOCH,\n",
    "            'class_to_index': model.class_to_idx,\n",
    "            'classifier_state_dict': model.classifier.state_dict(),\n",
    "            'optimizer_state_dict': optimizer.state_dict(),\n",
    "            }, PATH)"
   ]
  },
  {
   "attachments": {},
   "cell_type": "markdown",
   "metadata": {},
   "source": [
    "## Loading the checkpoint\n",
    "\n",
    "At this point it's good to write a function that can load a checkpoint and rebuild the model. That way you can come back to this project and keep working on it without having to retrain the network."
   ]
  },
  {
   "cell_type": "code",
   "execution_count": 10,
   "metadata": {},
   "outputs": [],
   "source": [
    "# TODO: Write a function that loads a checkpoint and rebuilds the model\n",
    "\n",
    "def load_model(device, model, optimizer, PATH):\n",
    "    checkpoint = torch.load(PATH, map_location=device)\n",
    "    model.classifier.load_state_dict(checkpoint['classifier_state_dict'])\n",
    "    optimizer.load_state_dict(checkpoint['optimizer_state_dict'])\n",
    "    epoch = checkpoint['epoch']\n",
    "    model.class_to_idx = checkpoint['class_to_index']\n",
    "    return epoch"
   ]
  },
  {
   "cell_type": "code",
   "execution_count": 17,
   "metadata": {},
   "outputs": [],
   "source": [
    "PATH = \"checkpoint.pth\"\n",
    "device = torch.device(\"cuda\" if torch.cuda.is_available() else \"cpu\")\n",
    "optimizer = torch.optim.Adam(model.classifier.parameters(), lr=0.0008)\n",
    "criterion = torch.nn.NLLLoss()\n",
    "\n",
    "epoch = load_model(device, model, optimizer, PATH)"
   ]
  },
  {
   "attachments": {},
   "cell_type": "markdown",
   "metadata": {},
   "source": [
    "# Inference for classification\n",
    "\n",
    "Now you'll write a function to use a trained network for inference. That is, you'll pass an image into the network and predict the class of the flower in the image. Write a function called `predict` that takes an image and a model, then returns the top $K$ most likely classes along with the probabilities. It should look like \n",
    "\n",
    "```python\n",
    "probs, classes = predict(image_path, model)\n",
    "print(probs)\n",
    "print(classes)\n",
    "> [ 0.01558163  0.01541934  0.01452626  0.01443549  0.01407339]\n",
    "> ['70', '3', '45', '62', '55']\n",
    "```\n",
    "\n",
    "First you'll need to handle processing the input image such that it can be used in your network. \n",
    "\n",
    "## Image Preprocessing\n",
    "\n",
    "You'll want to use `PIL` to load the image ([documentation](https://pillow.readthedocs.io/en/latest/reference/Image.html)). It's best to write a function that preprocesses the image so it can be used as input for the model. This function should process the images in the same manner used for training. \n",
    "\n",
    "First, resize the images where the shortest side is 256 pixels, keeping the aspect ratio. This can be done with the [`thumbnail`](http://pillow.readthedocs.io/en/3.1.x/reference/Image.html#PIL.Image.Image.thumbnail) or [`resize`](http://pillow.readthedocs.io/en/3.1.x/reference/Image.html#PIL.Image.Image.thumbnail) methods. Then you'll need to crop out the center 224x224 portion of the image.\n",
    "\n",
    "Color channels of images are typically encoded as integers 0-255, but the model expected floats 0-1. You'll need to convert the values. It's easiest with a Numpy array, which you can get from a PIL image like so `np_image = np.array(pil_image)`.\n",
    "\n",
    "As before, the network expects the images to be normalized in a specific way. For the means, it's `[0.485, 0.456, 0.406]` and for the standard deviations `[0.229, 0.224, 0.225]`. You'll want to subtract the means from each color channel, then divide by the standard deviation. \n",
    "\n",
    "And finally, PyTorch expects the color channel to be the first dimension but it's the third dimension in the PIL image and Numpy array. You can reorder dimensions using [`ndarray.transpose`](https://docs.scipy.org/doc/numpy-1.13.0/reference/generated/numpy.ndarray.transpose.html). The color channel needs to be first and retain the order of the other two dimensions."
   ]
  },
  {
   "cell_type": "code",
   "execution_count": null,
   "metadata": {},
   "outputs": [],
   "source": [
    "def process_image(image):\n",
    "    ''' Scales, crops, and normalizes a PIL image for a PyTorch model,\n",
    "        returns an Numpy array\n",
    "    '''\n",
    "    \n",
    "    # TODO: Process a PIL image for use in a PyTorch model"
   ]
  },
  {
   "attachments": {},
   "cell_type": "markdown",
   "metadata": {},
   "source": [
    "To check your work, the function below converts a PyTorch tensor and displays it in the notebook. If your `process_image` function works, running the output through this function should return the original image (except for the cropped out portions)."
   ]
  },
  {
   "cell_type": "code",
   "execution_count": null,
   "metadata": {},
   "outputs": [],
   "source": [
    "def imshow(image, ax=None, title=None):\n",
    "    \"\"\"Imshow for Tensor.\"\"\"\n",
    "    if ax is None:\n",
    "        fig, ax = plt.subplots()\n",
    "    \n",
    "    # PyTorch tensors assume the color channel is the first dimension\n",
    "    # but matplotlib assumes is the third dimension\n",
    "    image = image.numpy().transpose((1, 2, 0))\n",
    "    \n",
    "    # Undo preprocessing\n",
    "    mean = np.array([0.485, 0.456, 0.406])\n",
    "    std = np.array([0.229, 0.224, 0.225])\n",
    "    image = std * image + mean\n",
    "    \n",
    "    # Image needs to be clipped between 0 and 1 or it looks like noise when displayed\n",
    "    image = np.clip(image, 0, 1)\n",
    "    \n",
    "    ax.imshow(image)\n",
    "    \n",
    "    return ax"
   ]
  },
  {
   "attachments": {},
   "cell_type": "markdown",
   "metadata": {},
   "source": [
    "## Class Prediction\n",
    "\n",
    "Once you can get images in the correct format, it's time to write a function for making predictions with your model. A common practice is to predict the top 5 or so (usually called top-$K$) most probable classes. You'll want to calculate the class probabilities then find the $K$ largest values.\n",
    "\n",
    "To get the top $K$ largest values in a tensor use [`x.topk(k)`](http://pytorch.org/docs/master/torch.html#torch.topk). This method returns both the highest `k` probabilities and the indices of those probabilities corresponding to the classes. You need to convert from these indices to the actual class labels using `class_to_idx` which hopefully you added to the model or from an `ImageFolder` you used to load the data ([see here](#Save-the-checkpoint)). Make sure to invert the dictionary so you get a mapping from index to class as well.\n",
    "\n",
    "Again, this method should take a path to an image and a model checkpoint, then return the probabilities and classes.\n",
    "\n",
    "```python\n",
    "probs, classes = predict(image_path, model)\n",
    "print(probs)\n",
    "print(classes)\n",
    "> [ 0.01558163  0.01541934  0.01452626  0.01443549  0.01407339]\n",
    "> ['70', '3', '45', '62', '55']\n",
    "```"
   ]
  },
  {
   "cell_type": "code",
   "execution_count": null,
   "metadata": {},
   "outputs": [],
   "source": [
    "def predict(image_path, model, topk=5):\n",
    "    ''' Predict the class (or classes) of an image using a trained deep learning model.\n",
    "    '''\n",
    "    \n",
    "    # TODO: Implement the code to predict the class from an image file"
   ]
  },
  {
   "attachments": {},
   "cell_type": "markdown",
   "metadata": {},
   "source": [
    "## Sanity Checking\n",
    "\n",
    "Now that you can use a trained model for predictions, check to make sure it makes sense. Even if the testing accuracy is high, it's always good to check that there aren't obvious bugs. Use `matplotlib` to plot the probabilities for the top 5 classes as a bar graph, along with the input image. It should look like this:\n",
    "\n",
    "<img src='assets/inference_example.png' width=300px>\n",
    "\n",
    "You can convert from the class integer encoding to actual flower names with the `cat_to_name.json` file (should have been loaded earlier in the notebook). To show a PyTorch tensor as an image, use the `imshow` function defined above."
   ]
  },
  {
   "cell_type": "code",
   "execution_count": null,
   "metadata": {},
   "outputs": [],
   "source": [
    "# TODO: Display an image along with the top 5 classes"
   ]
  }
 ],
 "metadata": {
  "kernelspec": {
   "display_name": "ailf",
   "language": "python",
   "name": "python3"
  },
  "language_info": {
   "codemirror_mode": {
    "name": "ipython",
    "version": 3
   },
   "file_extension": ".py",
   "mimetype": "text/x-python",
   "name": "python",
   "nbconvert_exporter": "python",
   "pygments_lexer": "ipython3",
   "version": "3.10.11"
  }
 },
 "nbformat": 4,
 "nbformat_minor": 4
}
